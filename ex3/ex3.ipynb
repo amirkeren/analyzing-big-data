{
 "cells": [
  {
   "cell_type": "markdown",
   "metadata": {},
   "source": [
    "# Amazon Fine Food Reviews"
   ]
  },
  {
   "cell_type": "markdown",
   "metadata": {},
   "source": [
    "https://www.kaggle.com/snap/amazon-fine-food-reviews"
   ]
  },
  {
   "cell_type": "markdown",
   "metadata": {},
   "source": [
    "## Hyperparameters"
   ]
  },
  {
   "cell_type": "code",
   "execution_count": 1,
   "metadata": {},
   "outputs": [],
   "source": [
    "hyperparameters = {\n",
    "    'is_training': True,\n",
    "}"
   ]
  },
  {
   "cell_type": "markdown",
   "metadata": {},
   "source": [
    "## Load Dataset"
   ]
  },
  {
   "cell_type": "code",
   "execution_count": 2,
   "metadata": {},
   "outputs": [
    {
     "name": "stdout",
     "output_type": "stream",
     "text": [
      "+---+--------------------+-----+\n",
      "| Id|                Text|Score|\n",
      "+---+--------------------+-----+\n",
      "|  1|I have bought sev...|    5|\n",
      "|  2|\"Product arrived ...|    1|\n",
      "|  3|\"This is a confec...|    4|\n",
      "|  4|If you are lookin...|    2|\n",
      "|  5|Great taffy at a ...|    5|\n",
      "|  6|I got a wild hair...|    4|\n",
      "|  7|This saltwater ta...|    5|\n",
      "|  8|This taffy is so ...|    5|\n",
      "|  9|Right now I'm mos...|    5|\n",
      "| 10|This is a very he...|    5|\n",
      "| 11|I don't know if i...|    5|\n",
      "| 12|One of my boys ne...|    5|\n",
      "| 13|My cats have been...|    1|\n",
      "| 14|good flavor! thes...|    4|\n",
      "| 15|The Strawberry Tw...|    5|\n",
      "| 16|My daughter loves...|    5|\n",
      "| 17|I love eating the...|    2|\n",
      "| 18|I am very satisfi...|    5|\n",
      "| 19|Twizzlers, Strawb...|    5|\n",
      "| 20|Candy was deliver...|    5|\n",
      "+---+--------------------+-----+\n",
      "only showing top 20 rows\n",
      "\n"
     ]
    }
   ],
   "source": [
    "from pyspark.sql.types import StructType, StructField, IntegerType, StringType\n",
    "from pyspark.ml.feature import RegexTokenizer\n",
    "from pyspark.sql.functions import *\n",
    "\n",
    "df = spark.read.csv(\"Reviews.csv\",header=False, schema=StructType([\n",
    "    StructField('Id', IntegerType(), True),\n",
    "    StructField('ProductId', StringType(), True),\n",
    "    StructField('UserId', StringType(), True),\n",
    "    StructField('ProfileName', StringType(), True),\n",
    "    StructField('HelpfulnessNumerator', IntegerType(), True),\n",
    "    StructField('HelpfulnessDenominator', IntegerType(), True),\n",
    "    StructField('Score', IntegerType(), True),\n",
    "    StructField('Time', IntegerType(), True),\n",
    "    StructField('Summary', StringType(), True),\n",
    "    StructField('Text', StringType(), True)]))\n",
    "df = df.select('Id', 'Text', 'Score').limit(10000)\n",
    "df = df.filter('Id' > 0 and length('Text') > 0).filter(col('Score') > 0)\n",
    "\n",
    "df.show()"
   ]
  },
  {
   "cell_type": "markdown",
   "metadata": {},
   "source": [
    "## Investigating the Data"
   ]
  },
  {
   "cell_type": "code",
   "execution_count": 3,
   "metadata": {},
   "outputs": [
    {
     "name": "stdout",
     "output_type": "stream",
     "text": [
      "min review length (in words) 1\n",
      "max review length (in words) 1255\n",
      "average review length (in words) 69.4180524945\n"
     ]
    },
    {
     "data": {
      "text/plain": [
       "array([[<matplotlib.axes._subplots.AxesSubplot object at 0x11056c2d0>]],\n",
       "      dtype=object)"
      ]
     },
     "execution_count": 3,
     "metadata": {},
     "output_type": "execute_result"
    },
    {
     "data": {
      "image/png": "[encoded data removed]",
      "text/plain": [
       "<Figure size 432x288 with 1 Axes>"
      ]
     },
     "metadata": {
      "needs_background": "light"
     },
     "output_type": "display_data"
    }
   ],
   "source": [
    "%matplotlib inline\n",
    "\n",
    "df = RegexTokenizer(inputCol='Text', outputCol='Tokenized', pattern=\"\\\\W\").transform(df)\n",
    "df = df.withColumn('NumWords', size('Tokenized'))\n",
    "# you can see that there are reviews with just one word\n",
    "print 'min review length (in words)', df.select(min('NumWords')).collect()[0][0]\n",
    "# you can see that there are reviews with a very high number of words\n",
    "print 'max review length (in words)', df.select(max('NumWords')).collect()[0][0]\n",
    "print 'average review length (in words)', df.select(mean('NumWords')).collect()[0][0]\n",
    "\n",
    "df.select('NumWords').toPandas().hist()"
   ]
  },
  {
   "cell_type": "code",
   "execution_count": 4,
   "metadata": {},
   "outputs": [
    {
     "data": {
      "text/plain": [
       "array([[<matplotlib.axes._subplots.AxesSubplot object at 0x10cd7e4d0>]],\n",
       "      dtype=object)"
      ]
     },
     "execution_count": 4,
     "metadata": {},
     "output_type": "execute_result"
    },
    {
     "data": {
      "image/png": "[encoded data removed]",
      "text/plain": [
       "<Figure size 432x288 with 1 Axes>"
      ]
     },
     "metadata": {
      "needs_background": "light"
     },
     "output_type": "display_data"
    }
   ],
   "source": [
    "%matplotlib inline\n",
    "\n",
    "df.select('Score').toPandas().hist(range=[1, 5])"
   ]
  },
  {
   "cell_type": "markdown",
   "metadata": {},
   "source": [
    "## Cleaning the Data"
   ]
  },
  {
   "cell_type": "code",
   "execution_count": 5,
   "metadata": {},
   "outputs": [
    {
     "name": "stdout",
     "output_type": "stream",
     "text": [
      "+---+--------------------+-----+---------------+--------------------+--------------------+\n",
      "| Id|                Text|Score|NumWordsStopped|         TextStopped|            Word2Vec|\n",
      "+---+--------------------+-----+---------------+--------------------+--------------------+\n",
      "|  2|\"Product arrived ...|    1|             18|product arrived l...|[0.09954480018414...|\n",
      "|  3|\"This is a confec...|    4|             31|confection around...|[0.04530252480218...|\n",
      "|  4|If you are lookin...|    2|             18|looking secret in...|[0.09102239248265...|\n",
      "|  6|I got a wild hair...|    4|             39|got wild hair taf...|[0.06683626809778...|\n",
      "| 13|My cats have been...|    1|             40|cats happily eati...|[0.09753783685446...|\n",
      "| 14|good flavor! thes...|    4|              9|good flavor came ...|[0.02777793744785...|\n",
      "| 17|I love eating the...|    2|             18|love eating good ...|[0.03869705564445...|\n",
      "| 27|The candy is just...|    1|              7|candy red flavor ...|[0.07972062485558...|\n",
      "| 28|I was so glad Ama...|    4|             18|glad amazon carri...|[0.21528080054041...|\n",
      "| 34|This is a good in...|    4|             46|good instant oatm...|[0.05011425795964...|\n",
      "| 36|McCann's Instant ...|    4|             50|mccann instant ir...|[0.07373750396072...|\n",
      "| 39|I WAS VISITING MY...|    4|             47|visiting friend n...|[0.07428531132717...|\n",
      "| 46|This seems a litt...|    3|             19|seems little whol...|[0.06642890520589...|\n",
      "| 48|The flavors are g...|    3|              9|flavors good howe...|[0.09745662442098...|\n",
      "| 49|I really like the...|    4|             28|really like maple...|[0.01247383763880...|\n",
      "| 50|This is the same ...|    3|             15|stuff buy big box...|[0.12952904747799...|\n",
      "| 51|This oatmeal is n...|    1|              9|oatmeal good mush...|[0.04413877769062...|\n",
      "| 54|we're used to spi...|    3|             14|re used spicy foo...|[0.00444534124108...|\n",
      "| 55|I roast at home w...|    4|             41|roast home stove ...|[0.07598468197350...|\n",
      "| 61|Watch your prices...|    3|             14|watch prices asso...|[0.17009439904774...|\n",
      "+---+--------------------+-----+---------------+--------------------+--------------------+\n",
      "only showing top 20 rows\n",
      "\n"
     ]
    }
   ],
   "source": [
    "from pyspark.ml.feature import StopWordsRemover, Word2Vec, NGram, OneHotEncoder, StringIndexer\n",
    "\n",
    "temp = df.filter(col('Score') == 5)\n",
    "df = df.filter(col('Score') != 5)\n",
    "temp = temp.sample(0.2)\n",
    "df = df.union(temp)\n",
    "\n",
    "df = StopWordsRemover(inputCol='Tokenized', outputCol='TokenizedStopped').transform(df)\n",
    "df = df.withColumn('NumWordsStopped', size('TokenizedStopped'))\n",
    "df = df.filter(col('NumWordsStopped') > 2).filter(col('NumWordsStopped') <= 100)\n",
    "df = df.withColumn('TextStopped', concat_ws(' ', 'TokenizedStopped'))\n",
    "# df = StringIndexer(inputCol='TextStopped', outputCol='categoryIndex').fit(df).transform(df)\n",
    "# df = OneHotEncoder(inputCol='categoryIndex', outputCol='categoryVec').transform(df)\n",
    "df = Word2Vec(vectorSize=5, seed=42, minCount=0, inputCol='TokenizedStopped', \n",
    "              outputCol='Word2Vec').fit(df).transform(df)\n",
    "df = NGram(n=2, inputCol='TokenizedStopped', outputCol='ngrams').transform(df)\n",
    "\n",
    "df = df.select('Id', 'Text', 'Score', 'NumWordsStopped', 'TextStopped', 'Word2Vec')\n",
    "\n",
    "df.show()"
   ]
  },
  {
   "cell_type": "code",
   "execution_count": 6,
   "metadata": {},
   "outputs": [],
   "source": [
    "# import numpy as np\n",
    "# from sklearn.preprocessing import OneHotEncoder\n",
    "\n",
    "# enc = OneHotEncoder()\n",
    "# enc.fit(np.array(df.select('TextStopped').collect()).reshape(-1, 1))\n",
    "# ar = enc.transform(df.select('TextStopped').collect()).toarray()\n",
    "# df = df.withColumn('OneHot', enc.transform(col('TextStopped').reshape(-1, 1)).toarray())"
   ]
  },
  {
   "cell_type": "markdown",
   "metadata": {},
   "source": [
    "## After Cleanup"
   ]
  },
  {
   "cell_type": "code",
   "execution_count": 7,
   "metadata": {},
   "outputs": [
    {
     "name": "stdout",
     "output_type": "stream",
     "text": [
      "min review length (in words) 3\n",
      "max review length (in words) 100\n",
      "average review length (in words) 32.3414735963\n"
     ]
    },
    {
     "data": {
      "text/plain": [
       "array([[<matplotlib.axes._subplots.AxesSubplot object at 0x112652390>]],\n",
       "      dtype=object)"
      ]
     },
     "execution_count": 7,
     "metadata": {},
     "output_type": "execute_result"
    },
    {
     "data": {
      "image/png": "[encoded data removed]",
      "text/plain": [
       "<Figure size 432x288 with 1 Axes>"
      ]
     },
     "metadata": {
      "needs_background": "light"
     },
     "output_type": "display_data"
    }
   ],
   "source": [
    "%matplotlib inline\n",
    "\n",
    "min_words = df.select(min('NumWordsStopped')).collect()[0][0]\n",
    "print 'min review length (in words)', min_words\n",
    "max_words = df.select(max('NumWordsStopped')).collect()[0][0]\n",
    "print 'max review length (in words)', max_words\n",
    "print 'average review length (in words)', df.select(mean('NumWordsStopped')).collect()[0][0]\n",
    "\n",
    "df.select('NumWordsStopped').toPandas().hist()"
   ]
  },
  {
   "cell_type": "code",
   "execution_count": 8,
   "metadata": {},
   "outputs": [
    {
     "data": {
      "text/plain": [
       "array([[<matplotlib.axes._subplots.AxesSubplot object at 0x1102c19d0>]],\n",
       "      dtype=object)"
      ]
     },
     "execution_count": 8,
     "metadata": {},
     "output_type": "execute_result"
    },
    {
     "data": {
      "image/png": "[encoded data removed]",
      "text/plain": [
       "<Figure size 432x288 with 1 Axes>"
      ]
     },
     "metadata": {
      "needs_background": "light"
     },
     "output_type": "display_data"
    }
   ],
   "source": [
    "%matplotlib inline\n",
    "\n",
    "df.select('Score').toPandas().hist(range=[1, 5])"
   ]
  },
  {
   "cell_type": "markdown",
   "metadata": {},
   "source": [
    "## Feature Engineering"
   ]
  },
  {
   "cell_type": "code",
   "execution_count": 9,
   "metadata": {},
   "outputs": [
    {
     "name": "stdout",
     "output_type": "stream",
     "text": [
      "+--------------------+-----+---------------+--------------------+--------------------+--------------------+-------------------------+-----------------+\n",
      "|                Text|Score|NumWordsStopped|         TextStopped|            Word2Vec|    AverageEmbedding|NumWordsStoppedNormalized|ExclamationPoints|\n",
      "+--------------------+-----+---------------+--------------------+--------------------+--------------------+-------------------------+-----------------+\n",
      "|\"Product arrived ...|    1|             18|product arrived l...|[0.09954480018414...| 0.03353120211977511|      0.15463917525773196|                0|\n",
      "|\"This is a confec...|    4|             31|confection around...|[0.04530252480218...|-0.02916573448437...|      0.28865979381443296|                0|\n",
      "|If you are lookin...|    2|             18|looking secret in...|[0.09102239248265...|-0.02730267998671...|      0.15463917525773196|                0|\n",
      "|I got a wild hair...|    4|             39|got wild hair taf...|[0.06683626809778...|-0.03299036357068243|       0.3711340206185567|                1|\n",
      "|My cats have been...|    1|             40|cats happily eati...|[0.09753783685446...|0.008629577151150444|      0.38144329896907214|                0|\n",
      "|good flavor! thes...|    4|              9|good flavor came ...|[0.02777793744785...|-0.05233739770741926|     0.061855670103092786|                3|\n",
      "|I love eating the...|    2|             18|love eating good ...|[0.03869705564445...|-0.03240947292651...|      0.15463917525773196|                1|\n",
      "|The candy is just...|    1|              7|candy red flavor ...|[0.07972062485558...|-0.03307836830083...|     0.041237113402061855|                0|\n",
      "|I was so glad Ama...|    4|             18|glad amazon carri...|[0.21528080054041...| 0.03702181595791544|      0.15463917525773196|                0|\n",
      "|This is a good in...|    4|             46|good instant oatm...|[0.05011425795964...|-0.06369214474790445|      0.44329896907216493|                0|\n",
      "|McCann's Instant ...|    4|             50|mccann instant ir...|[0.07373750396072...|-0.04564644324965...|       0.4845360824742268|                0|\n",
      "|I WAS VISITING MY...|    4|             47|visiting friend n...|[0.07428531132717...|-0.04053546305389163|       0.4536082474226804|                0|\n",
      "|This seems a litt...|    3|             19|seems little whol...|[0.06642890520589...|-0.05293212666568...|      0.16494845360824742|                0|\n",
      "|The flavors are g...|    3|              9|flavors good howe...|[0.09745662442098...|-0.01257632304396894|     0.061855670103092786|                0|\n",
      "|I really like the...|    4|             28|really like maple...|[0.01247383763880...|-0.10273985675303265|      0.25773195876288657|                0|\n",
      "|This is the same ...|    3|             15|stuff buy big box...|[0.12952904747799...|-0.02830788462422788|      0.12371134020618557|                0|\n",
      "|This oatmeal is n...|    1|              9|oatmeal good mush...|[0.04413877769062...|-0.06180607019923627|     0.061855670103092786|                0|\n",
      "|we're used to spi...|    3|             14|re used spicy foo...|[0.00444534124108...|-0.03865443052823788|       0.1134020618556701|                0|\n",
      "|I roast at home w...|    4|             41|roast home stove ...|[0.07598468197350...|-0.05276040933208...|       0.3917525773195876|                0|\n",
      "|Watch your prices...|    3|             14|watch prices asso...|[0.17009439904774...| 0.01482825584576598|       0.1134020618556701|                0|\n",
      "+--------------------+-----+---------------+--------------------+--------------------+--------------------+-------------------------+-----------------+\n",
      "only showing top 20 rows\n",
      "\n"
     ]
    }
   ],
   "source": [
    "data = [(x[0], float(x[1].toArray().mean())) for x in df.select('Id', 'Word2Vec').collect()]\n",
    "temp_df = spark.createDataFrame(data, ['Id', 'AverageEmbedding'])\n",
    "df = df.join(temp_df, df['Id'] == temp_df['Id'])\n",
    "df = df.drop('Id')\n",
    "df = df.withColumn('NumWordsStoppedNormalized', (col('NumWordsStopped') - min_words) / (max_words - min_words))\n",
    "df = df.withColumn('ExclamationPoints', size(split(col('Text'), r'!')) - 1)\n",
    "\n",
    "df.show()"
   ]
  },
  {
   "cell_type": "markdown",
   "metadata": {},
   "source": [
    "## Clustering"
   ]
  },
  {
   "cell_type": "code",
   "execution_count": 10,
   "metadata": {},
   "outputs": [
    {
     "name": "stdout",
     "output_type": "stream",
     "text": [
      "Silhouette with squared euclidean distance = 0.664381326297\n",
      "Cluster Centers: \n",
      "[51.7106274   3.22151088]\n",
      "[21.60969793  3.31717011]\n",
      "[78.03671706  3.10799136]\n",
      "[34.01865672  3.19682836]\n",
      "[12.14297453  3.44617913]\n"
     ]
    }
   ],
   "source": [
    "from pyspark.ml.clustering import KMeans\n",
    "from pyspark.ml.evaluation import ClusteringEvaluator\n",
    "from pyspark.ml.linalg import Vectors\n",
    "\n",
    "dataset = df.select('NumWordsStopped', 'Score')\n",
    "data = [(Vectors.dense([x[0], x[1]]),) for x in dataset.collect()]\n",
    "dataset = spark.createDataFrame(data, ['features'])\n",
    "kmeans = KMeans().setK(5).setSeed(1)\n",
    "model = kmeans.fit(dataset)\n",
    "predictions = model.transform(dataset)\n",
    "evaluator = ClusteringEvaluator()\n",
    "silhouette = evaluator.evaluate(predictions)\n",
    "print(\"Silhouette with squared euclidean distance = \" + str(silhouette))\n",
    "centers = model.clusterCenters()\n",
    "print(\"Cluster Centers: \")\n",
    "for center in centers:\n",
    "    print(center)"
   ]
  },
  {
   "cell_type": "code",
   "execution_count": 11,
   "metadata": {},
   "outputs": [],
   "source": [
    "# %matplotlib inline\n",
    "\n",
    "# import matplotlib.pyplot as plt\n",
    "\n",
    "# # plt.scatter(X[:, 0], X[:, 1], c=y_kmeans, s=50, cmap='viridis')\n",
    "\n",
    "# centers = model.clusterCenters()\n",
    "# plt.scatter(centers[:, 0], centers[:, 1], c='black', s=200, alpha=0.5)"
   ]
  },
  {
   "cell_type": "markdown",
   "metadata": {},
   "source": [
    "## Classification"
   ]
  },
  {
   "cell_type": "code",
   "execution_count": 12,
   "metadata": {},
   "outputs": [
    {
     "name": "stdout",
     "output_type": "stream",
     "text": [
      "Test Error = 0.655221 \n",
      "+--------------+-----+--------------------+\n",
      "|predictedLabel|label|            features|\n",
      "+--------------+-----+--------------------+\n",
      "|             4|    1|[0.0,-0.066677582...|\n",
      "|             4|    1|[0.05154639175257...|\n",
      "|             4|    1|[0.07216494845360...|\n",
      "|             4|    1|[0.11340206185567...|\n",
      "|             4|    1|[0.12371134020618...|\n",
      "|             4|    1|[0.12371134020618...|\n",
      "|             4|    1|[0.14432989690721...|\n",
      "|             5|    1|[0.14432989690721...|\n",
      "|             5|    1|[0.15463917525773...|\n",
      "|             4|    1|[0.15463917525773...|\n",
      "|             5|    1|[0.15463917525773...|\n",
      "|             4|    1|[0.16494845360824...|\n",
      "|             5|    1|[0.17525773195876...|\n",
      "|             5|    1|[0.19587628865979...|\n",
      "|             5|    1|[0.19587628865979...|\n",
      "|             1|    1|[0.19587628865979...|\n",
      "|             5|    1|[0.20618556701030...|\n",
      "|             1|    1|[0.20618556701030...|\n",
      "|             5|    1|[0.21649484536082...|\n",
      "|             4|    1|[0.21649484536082...|\n",
      "+--------------+-----+--------------------+\n",
      "only showing top 20 rows\n",
      "\n"
     ]
    }
   ],
   "source": [
    "from pyspark.ml import Pipeline\n",
    "from pyspark.ml.classification import RandomForestClassifier\n",
    "from pyspark.ml.feature import IndexToString, StringIndexer, VectorIndexer\n",
    "from pyspark.ml.evaluation import MulticlassClassificationEvaluator\n",
    "\n",
    "dataset = df.select('NumWordsStoppedNormalized', 'AverageEmbedding', \n",
    "                    'ExclamationPoints', 'Score').orderBy(rand())\n",
    "# dataset = df.select('Word2Vec', 'Score')\n",
    "data = [(x[3], Vectors.dense([x[0], x[1], x[2]])) for x in dataset.collect()]\n",
    "# data = [(x[1], x[0]) for x in dataset.collect()]\n",
    "dataset = spark.createDataFrame(data, ['label', 'features'])\n",
    "labelIndexer = StringIndexer(inputCol='label', outputCol='indexedLabel').fit(dataset)\n",
    "featureIndexer = VectorIndexer(inputCol=\"features\", outputCol='indexedFeatures', maxCategories=5).fit(dataset)\n",
    "(trainingData, testData) = dataset.randomSplit([0.7, 0.3])\n",
    "rf = RandomForestClassifier(labelCol='indexedLabel', featuresCol='indexedFeatures', numTrees=10)\n",
    "labelConverter = IndexToString(inputCol='prediction', outputCol='predictedLabel',\n",
    "                               labels=labelIndexer.labels)\n",
    "pipeline = Pipeline(stages=[labelIndexer, featureIndexer, rf, labelConverter])\n",
    "model = pipeline.fit(trainingData)\n",
    "predictions = model.transform(testData)\n",
    "evaluator = MulticlassClassificationEvaluator(labelCol='indexedLabel', \n",
    "                                              predictionCol='prediction', metricName='accuracy')\n",
    "accuracy = evaluator.evaluate(predictions)\n",
    "print(\"Test Error = %g \" % (1.0 - accuracy))\n",
    "predictions.select('predictedLabel', 'label', 'features').show()"
   ]
  },
  {
   "cell_type": "markdown",
   "metadata": {},
   "source": [
    "## Evaluation"
   ]
  },
  {
   "cell_type": "code",
   "execution_count": 13,
   "metadata": {},
   "outputs": [
    {
     "name": "stdout",
     "output_type": "stream",
     "text": [
      "Summary Stats\n",
      "Accuracy = 0.344779257183\n",
      "Precision = 0.344779257183\n",
      "Recall = 0.344779257183\n",
      "F1 Score = 0.344779257183\n",
      "Class 1.0 precision = 0.346456692913\n",
      "Class 1.0 recall = 0.177419354839\n",
      "Class 1.0 F1 Measure = 0.234666666667\n",
      "Class 2.0 precision = 0.0\n",
      "Class 2.0 recall = 0.0\n",
      "Class 2.0 F1 Measure = 0.0\n",
      "Class 3.0 precision = 0.181818181818\n",
      "Class 3.0 recall = 0.0084388185654\n",
      "Class 3.0 F1 Measure = 0.0161290322581\n",
      "Class 4.0 precision = 0.316384180791\n",
      "Class 4.0 recall = 0.696517412935\n",
      "Class 4.0 F1 Measure = 0.43512043512\n",
      "Class 5.0 precision = 0.410891089109\n",
      "Class 5.0 recall = 0.448648648649\n",
      "Class 5.0 F1 Measure = 0.428940568475\n",
      "Weighted recall = 0.344779257183\n",
      "Weighted precision = 0.286074500758\n",
      "Weighted F(1) Score = 0.277257420626\n",
      "Weighted F(0.5) Score = 0.264895634399\n",
      "Weighted false positive rate = 0.238150390664\n"
     ]
    }
   ],
   "source": [
    "from pyspark.mllib.util import MLUtils\n",
    "from pyspark.mllib.evaluation import MulticlassMetrics\n",
    "\n",
    "predictionAndLabels = sc.parallelize([(float(x[0]), float(x[1])) \n",
    "                                      for x in predictions.select('predictedLabel', 'label').collect()])\n",
    "metrics = MulticlassMetrics(predictionAndLabels)\n",
    "print(\"Summary Stats\")\n",
    "print('Accuracy = %s' % metrics.accuracy)\n",
    "print(\"Precision = %s\" % metrics.precision())\n",
    "print(\"Recall = %s\" % metrics.recall())\n",
    "print(\"F1 Score = %s\" % metrics.fMeasure())\n",
    "for label in [float(x) for x in range(1, 6)]:\n",
    "    print(\"Class %s precision = %s\" % (label, metrics.precision(label)))\n",
    "    print(\"Class %s recall = %s\" % (label, metrics.recall(label)))\n",
    "    print(\"Class %s F1 Measure = %s\" % (label, metrics.fMeasure(label, beta=1.0)))\n",
    "print(\"Weighted recall = %s\" % metrics.weightedRecall)\n",
    "print(\"Weighted precision = %s\" % metrics.weightedPrecision)\n",
    "print(\"Weighted F(1) Score = %s\" % metrics.weightedFMeasure())\n",
    "print(\"Weighted F(0.5) Score = %s\" % metrics.weightedFMeasure(beta=0.5))\n",
    "print(\"Weighted false positive rate = %s\" % metrics.weightedFalsePositiveRate)"
   ]
  }
 ],
 "metadata": {
  "kernelspec": {
   "display_name": "Python 2",
   "language": "python",
   "name": "python2"
  },
  "language_info": {
   "codemirror_mode": {
    "name": "ipython",
    "version": 2
   },
   "file_extension": ".py",
   "mimetype": "text/x-python",
   "name": "python",
   "nbconvert_exporter": "python",
   "pygments_lexer": "ipython2",
   "version": "2.7.16"
  }
 },
 "nbformat": 4,
 "nbformat_minor": 2
}

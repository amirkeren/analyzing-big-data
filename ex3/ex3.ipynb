{
 "cells": [
  {
   "cell_type": "markdown",
   "metadata": {},
   "source": [
    "# Amazon Fine Food Reviews"
   ]
  },
  {
   "cell_type": "markdown",
   "metadata": {},
   "source": [
    "https://www.kaggle.com/snap/amazon-fine-food-reviews"
   ]
  },
  {
   "cell_type": "markdown",
   "metadata": {},
   "source": [
    "## Hyperparameters"
   ]
  },
  {
   "cell_type": "code",
   "execution_count": 1,
   "metadata": {},
   "outputs": [],
   "source": [
    "hyperparameters = {\n",
    "    'limit': -1,\n",
    "    'min_words': 2,\n",
    "    'max_words': 200,\n",
    "    'num_features': 20000,\n",
    "    'downsample_ratio': 0.2,\n",
    "    'num_trees': 10,\n",
    "    'smoothing': 0.1,\n",
    "    'max_categories': 5\n",
    "}"
   ]
  },
  {
   "cell_type": "markdown",
   "metadata": {},
   "source": [
    "## Load Dataset"
   ]
  },
  {
   "cell_type": "code",
   "execution_count": 2,
   "metadata": {},
   "outputs": [
    {
     "name": "stdout",
     "output_type": "stream",
     "text": [
      "+---+--------------------+--------------------+-----+\n",
      "| Id|                Text|             Summary|Score|\n",
      "+---+--------------------+--------------------+-----+\n",
      "|  1|I have bought sev...|Good Quality Dog ...|    5|\n",
      "|  2|\"Product arrived ...|   Not as Advertised|    1|\n",
      "|  3|\"This is a confec...|\"\"\"Delight\"\" says...|    4|\n",
      "|  4|If you are lookin...|      Cough Medicine|    2|\n",
      "|  5|Great taffy at a ...|         Great taffy|    5|\n",
      "|  6|I got a wild hair...|          Nice Taffy|    4|\n",
      "|  7|This saltwater ta...|Great!  Just as g...|    5|\n",
      "|  8|This taffy is so ...|Wonderful, tasty ...|    5|\n",
      "|  9|Right now I'm mos...|          Yay Barley|    5|\n",
      "| 10|This is a very he...|    Healthy Dog Food|    5|\n",
      "| 11|I don't know if i...|The Best Hot Sauc...|    5|\n",
      "| 12|One of my boys ne...|\"My cats LOVE thi...|    5|\n",
      "| 13|My cats have been...|My Cats Are Not F...|    1|\n",
      "| 14|good flavor! thes...|   fresh and greasy!|    4|\n",
      "| 15|The Strawberry Tw...|Strawberry Twizzl...|    5|\n",
      "| 16|My daughter loves...|Lots of twizzlers...|    5|\n",
      "| 17|I love eating the...|          poor taste|    2|\n",
      "| 18|I am very satisfi...|            Love it!|    5|\n",
      "| 19|Twizzlers, Strawb...|  GREAT SWEET CANDY!|    5|\n",
      "| 20|Candy was deliver...|Home delivered tw...|    5|\n",
      "+---+--------------------+--------------------+-----+\n",
      "only showing top 20 rows\n",
      "\n"
     ]
    }
   ],
   "source": [
    "%matplotlib inline\n",
    "\n",
    "import matplotlib.pyplot as plt\n",
    "\n",
    "from wordcloud import WordCloud, STOPWORDS\n",
    "from pyspark.sql.functions import *\n",
    "from pyspark.sql.types import StructType, StructField, IntegerType, StringType\n",
    "from pyspark.ml import Pipeline\n",
    "from pyspark.ml.feature import RegexTokenizer, CountVectorizer, HashingTF, IDF\n",
    "from pyspark.ml.feature import IndexToString, StringIndexer, VectorIndexer\n",
    "from pyspark.ml.clustering import KMeans\n",
    "from pyspark.ml.evaluation import ClusteringEvaluator, MulticlassClassificationEvaluator\n",
    "from pyspark.ml.classification import RandomForestClassifier, NaiveBayes\n",
    "from pyspark.ml.linalg import Vectors\n",
    "from pyspark.mllib.util import MLUtils\n",
    "from pyspark.mllib.evaluation import MulticlassMetrics\n",
    "\n",
    "df = spark.read.csv('Reviews.csv',header=False, schema=StructType([\n",
    "    StructField('Id', IntegerType(), True),\n",
    "    StructField('ProductId', StringType(), True),\n",
    "    StructField('UserId', StringType(), True),\n",
    "    StructField('ProfileName', StringType(), True),\n",
    "    StructField('HelpfulnessNumerator', IntegerType(), True),\n",
    "    StructField('HelpfulnessDenominator', IntegerType(), True),\n",
    "    StructField('Score', IntegerType(), True),\n",
    "    StructField('Time', IntegerType(), True),\n",
    "    StructField('Summary', StringType(), True),\n",
    "    StructField('Text', StringType(), True)]))\n",
    "df = df.select('Id', 'Text', 'Summary', 'Score')\n",
    "if hyperparameters['limit'] > 0:\n",
    "    df = df.limit(hyperparameters['limit'])\n",
    "df = df.filter('Id' > 0 and length('Text') > 0).filter(col('Score') > 0)\n",
    "\n",
    "df.show()"
   ]
  },
  {
   "cell_type": "markdown",
   "metadata": {},
   "source": [
    "## Preprocess"
   ]
  },
  {
   "cell_type": "code",
   "execution_count": 3,
   "metadata": {},
   "outputs": [],
   "source": [
    "df = RegexTokenizer(inputCol='Text', outputCol='Tokenized', pattern='\\\\W').transform(df)\n",
    "df = RegexTokenizer(inputCol='Summary', outputCol='SummaryTokenized', pattern='\\\\W').transform(df)\n",
    "df = df.withColumn('NumWords', size('Tokenized'))\n",
    "df = df.withColumn('NumWordsSummary', size('SummaryTokenized'))"
   ]
  },
  {
   "cell_type": "markdown",
   "metadata": {},
   "source": [
    "## Investigating the Data"
   ]
  },
  {
   "cell_type": "code",
   "execution_count": 4,
   "metadata": {
    "scrolled": true
   },
   "outputs": [
    {
     "name": "stdout",
     "output_type": "stream",
     "text": [
      "min review length (in words) 1\n",
      "max review length (in words) 2258\n",
      "average review length (in words) 72.0277417728\n"
     ]
    }
   ],
   "source": [
    "print 'min review length (in words)', df.select(min('NumWords')).collect()[0][0]\n",
    "print 'max review length (in words)', df.select(max('NumWords')).collect()[0][0]\n",
    "print 'average review length (in words)', df.select(mean('NumWords')).collect()[0][0]"
   ]
  },
  {
   "cell_type": "code",
   "execution_count": 5,
   "metadata": {},
   "outputs": [
    {
     "data": {
      "text/plain": [
       "array([[<matplotlib.axes._subplots.AxesSubplot object at 0x1181dc0d0>]],\n",
       "      dtype=object)"
      ]
     },
     "execution_count": 5,
     "metadata": {},
     "output_type": "execute_result"
    },
    {
     "data": {
      "image/png": "[encoded data removed]",
      "text/plain": [
       "<Figure size 432x288 with 1 Axes>"
      ]
     },
     "metadata": {
      "needs_background": "light"
     },
     "output_type": "display_data"
    }
   ],
   "source": [
    "df.select('NumWords').toPandas().hist(range=[1, 500])"
   ]
  },
  {
   "cell_type": "markdown",
   "metadata": {},
   "source": [
    "You can see that there are reviews with just one word and that there are reviews with a very high number of words but that for the most part most reviews are in the range of 50 words"
   ]
  },
  {
   "cell_type": "code",
   "execution_count": 6,
   "metadata": {},
   "outputs": [
    {
     "data": {
      "text/plain": [
       "array([[<matplotlib.axes._subplots.AxesSubplot object at 0x124b95150>]],\n",
       "      dtype=object)"
      ]
     },
     "execution_count": 6,
     "metadata": {},
     "output_type": "execute_result"
    },
    {
     "data": {
      "image/png": "[encoded data removed]",
      "text/plain": [
       "<Figure size 432x288 with 1 Axes>"
      ]
     },
     "metadata": {
      "needs_background": "light"
     },
     "output_type": "display_data"
    }
   ],
   "source": [
    "df.select('Score').toPandas().hist(range=[1, 5])"
   ]
  },
  {
   "cell_type": "markdown",
   "metadata": {},
   "source": [
    "You can see that we have a very unbalanced dataset, most of the reviews are 5, we will have to down sample that later on"
   ]
  },
  {
   "cell_type": "code",
   "execution_count": 7,
   "metadata": {},
   "outputs": [
    {
     "data": {
      "text/plain": [
       "array([[<matplotlib.axes._subplots.AxesSubplot object at 0x114a83bd0>]],\n",
       "      dtype=object)"
      ]
     },
     "execution_count": 7,
     "metadata": {},
     "output_type": "execute_result"
    },
    {
     "data": {
      "image/png": "[encoded data removed]",
      "text/plain": [
       "<Figure size 432x288 with 1 Axes>"
      ]
     },
     "metadata": {
      "needs_background": "light"
     },
     "output_type": "display_data"
    }
   ],
   "source": [
    "df.select('NumWordsSummary').toPandas().hist()"
   ]
  },
  {
   "cell_type": "code",
   "execution_count": 8,
   "metadata": {},
   "outputs": [],
   "source": [
    "# text = [x[0] for x in df.select('Text').collect()]\n",
    "# stopwords = set(STOPWORDS)\n",
    "# stopwords.update(['amazon', 'br'])\n",
    "# wordcloud = WordCloud(stopwords=stopwords, background_color='white').generate(' '.join(text))\n",
    "# plt.figure(figsize=[7,7])\n",
    "# plt.imshow(wordcloud, interpolation='bilinear')\n",
    "# plt.axis('off')\n",
    "# plt.show()"
   ]
  },
  {
   "cell_type": "markdown",
   "metadata": {},
   "source": [
    "Since this is a food review dataset it stands to reason that most of the words are food related"
   ]
  },
  {
   "cell_type": "markdown",
   "metadata": {},
   "source": [
    "## Cleaning the Data"
   ]
  },
  {
   "cell_type": "markdown",
   "metadata": {},
   "source": [
    "### Downsampling"
   ]
  },
  {
   "cell_type": "code",
   "execution_count": 9,
   "metadata": {},
   "outputs": [],
   "source": [
    "temp = df.filter(col('Score') == 5)\n",
    "df = df.filter(col('Score') != 5)\n",
    "temp = temp.sample(hyperparameters['downsample_ratio'])\n",
    "df = df.union(temp)"
   ]
  },
  {
   "cell_type": "markdown",
   "metadata": {},
   "source": [
    "### Filtering Outliers"
   ]
  },
  {
   "cell_type": "code",
   "execution_count": 10,
   "metadata": {},
   "outputs": [],
   "source": [
    "df = df.filter(col('NumWords') > hyperparameters['min_words'])\n",
    "df = df.filter(col('NumWords') <= hyperparameters['max_words'])"
   ]
  },
  {
   "cell_type": "code",
   "execution_count": 11,
   "metadata": {},
   "outputs": [],
   "source": [
    "# from pyspark.ml.feature import OneHotEncoderEstimator, StringIndexer\n",
    "\n",
    "# indexer = StringIndexer(inputCol='Text', outputCol='categoryIndex')\n",
    "# indexed = indexer.fit(df).transform(df)\n",
    "# rows = indexed.select('categoryIndex').collect()"
   ]
  },
  {
   "cell_type": "code",
   "execution_count": 12,
   "metadata": {},
   "outputs": [],
   "source": [
    "# model = OneHotEncoderEstimator(inputCols=['Tokenized'], outputCols=['output']).fit(indexed)\n",
    "# model.transform(indexed).head().output"
   ]
  },
  {
   "cell_type": "code",
   "execution_count": 13,
   "metadata": {},
   "outputs": [
    {
     "name": "stdout",
     "output_type": "stream",
     "text": [
      "72274\n"
     ]
    },
    {
     "ename": "NameError",
     "evalue": "name 'sadlkj' is not defined",
     "output_type": "error",
     "traceback": [
      "\u001b[0;31m---------------------------------------------------------------------------\u001b[0m",
      "\u001b[0;31mNameError\u001b[0m                                 Traceback (most recent call last)",
      "\u001b[0;32m<ipython-input-13-6dd0e436442e>\u001b[0m in \u001b[0;36m<module>\u001b[0;34m()\u001b[0m\n\u001b[1;32m      3\u001b[0m \u001b[0;34m\u001b[0m\u001b[0m\n\u001b[1;32m      4\u001b[0m \u001b[0;32mprint\u001b[0m \u001b[0mlen\u001b[0m\u001b[0;34m(\u001b[0m\u001b[0mvocab\u001b[0m\u001b[0;34m)\u001b[0m\u001b[0;34m\u001b[0m\u001b[0m\n\u001b[0;32m----> 5\u001b[0;31m \u001b[0msadlkj\u001b[0m\u001b[0;34m\u001b[0m\u001b[0m\n\u001b[0m",
      "\u001b[0;31mNameError\u001b[0m: name 'sadlkj' is not defined"
     ]
    }
   ],
   "source": [
    "# text = [(x[0], x[1]) for x in df.select('Id', 'Tokenized').collect()]\n",
    "# vocab = set([val for sublist in [set(x[1]) for x in text] for val in sublist])"
   ]
  },
  {
   "cell_type": "code",
   "execution_count": null,
   "metadata": {},
   "outputs": [],
   "source": [
    "# from sklearn.preprocessing import OneHotEncoder\n",
    "\n",
    "# enc = OneHotEncoder(handle_unknown='ignore')\n",
    "# enc.fit(np.array(list(vocab)).reshape(-1, 1))\n",
    "# data = [(x[0], list(enc.transform(np.array(x[1]).reshape(-1, 1)).toarray())) for x in text]\n",
    "# data = [(x[0], [list(y) for y in x[1]]) for x in data]\n",
    "# data"
   ]
  },
  {
   "cell_type": "code",
   "execution_count": null,
   "metadata": {},
   "outputs": [],
   "source": [
    "# temp_df = spark.createDataFrame(data, ['Id', 'OneHotEncoded'])\n",
    "# temp_df.show()"
   ]
  },
  {
   "cell_type": "code",
   "execution_count": null,
   "metadata": {},
   "outputs": [],
   "source": [
    "# import numpy as np\n",
    "# from sklearn.preprocessing import OneHotEncoder\n",
    "\n",
    "# enc = OneHotEncoder()\n",
    "# enc.fit(np.array(df.select('Text').collect()).reshape(-1, 1))\n",
    "# ar = enc.transform(df.select('Text').collect()).toarray()\n",
    "\n",
    "# for bit in ar[0]:\n",
    "#     print bit\n"
   ]
  },
  {
   "cell_type": "code",
   "execution_count": null,
   "metadata": {},
   "outputs": [],
   "source": [
    "# df = CountVectorizer(inputCol='Tokenized', outputCol='TokenizedVector', \n",
    "#                      vocabSize=30, minDF=2.0).fit(df).transform(df)\n",
    "\n",
    "# df.show()\n",
    "# asd"
   ]
  },
  {
   "cell_type": "markdown",
   "metadata": {},
   "source": [
    "## After Cleanup"
   ]
  },
  {
   "cell_type": "code",
   "execution_count": 14,
   "metadata": {},
   "outputs": [
    {
     "name": "stdout",
     "output_type": "stream",
     "text": [
      "min review length (in words) 3\n",
      "max review length (in words) 200\n",
      "average review length (in words) 65.6324478236\n"
     ]
    }
   ],
   "source": [
    "min_words = df.select(min('NumWords')).collect()[0][0]\n",
    "print 'min review length (in words)', min_words\n",
    "max_words = df.select(max('NumWords')).collect()[0][0]\n",
    "print 'max review length (in words)', max_words\n",
    "print 'average review length (in words)', df.select(mean('NumWords')).collect()[0][0]"
   ]
  },
  {
   "cell_type": "code",
   "execution_count": 15,
   "metadata": {},
   "outputs": [
    {
     "data": {
      "text/plain": [
       "array([[<matplotlib.axes._subplots.AxesSubplot object at 0x120c35350>]],\n",
       "      dtype=object)"
      ]
     },
     "execution_count": 15,
     "metadata": {},
     "output_type": "execute_result"
    },
    {
     "data": {
      "image/png": "[encoded data removed]",
      "text/plain": [
       "<Figure size 432x288 with 1 Axes>"
      ]
     },
     "metadata": {
      "needs_background": "light"
     },
     "output_type": "display_data"
    }
   ],
   "source": [
    "df.select('NumWords').toPandas().hist()"
   ]
  },
  {
   "cell_type": "code",
   "execution_count": 16,
   "metadata": {},
   "outputs": [
    {
     "data": {
      "text/plain": [
       "array([[<matplotlib.axes._subplots.AxesSubplot object at 0x147bc4750>]],\n",
       "      dtype=object)"
      ]
     },
     "execution_count": 16,
     "metadata": {},
     "output_type": "execute_result"
    },
    {
     "data": {
      "image/png": "[encoded data removed]",
      "text/plain": [
       "<Figure size 432x288 with 1 Axes>"
      ]
     },
     "metadata": {
      "needs_background": "light"
     },
     "output_type": "display_data"
    }
   ],
   "source": [
    "df.select('Score').toPandas().hist(range=[1, 5])"
   ]
  },
  {
   "cell_type": "markdown",
   "metadata": {},
   "source": [
    "## Feature Engineering"
   ]
  },
  {
   "cell_type": "code",
   "execution_count": 17,
   "metadata": {},
   "outputs": [
    {
     "name": "stdout",
     "output_type": "stream",
     "text": [
      "+---+--------------------+--------------------+-----+--------------------+--------------------+--------+---------------+-------------------+-----------------+--------------------+--------------------+\n",
      "| Id|                Text|             Summary|Score|           Tokenized|    SummaryTokenized|NumWords|NumWordsSummary| NumWordsNormalized|ExclamationPoints|               Tfidf|        TfidfSummary|\n",
      "+---+--------------------+--------------------+-----+--------------------+--------------------+--------+---------------+-------------------+-----------------+--------------------+--------------------+\n",
      "|  2|\"Product arrived ...|   Not as Advertised|    1|[product, arrived...|[not, as, adverti...|      32|              3|0.14720812182741116|                0|(20000,[572,1187,...|(20000,[572,9018,...|\n",
      "|  3|\"This is a confec...|\"\"\"Delight\"\" says...|    4|[this, is, a, con...|[delight, says, i...|      71|              4|0.34517766497461927|                0|(20000,[532,1860,...|(20000,[2495,6927...|\n",
      "|  4|If you are lookin...|      Cough Medicine|    2|[if, you, are, lo...|   [cough, medicine]|      41|              2|0.19289340101522842|                0|(20000,[1036,1955...|(20000,[18197,198...|\n",
      "|  6|I got a wild hair...|          Nice Taffy|    4|[i, got, a, wild,...|       [nice, taffy]|      73|              2| 0.3553299492385787|                1|(20000,[307,1036,...|(20000,[3370,6618...|\n",
      "| 13|My cats have been...|My Cats Are Not F...|    1|[my, cats, have, ...|[my, cats, are, n...|      80|              9|0.39086294416243655|                0|(20000,[307,573,1...|(20000,[1966,2373...|\n",
      "| 14|good flavor! thes...|   fresh and greasy!|    4|[good, flavor, th...|[fresh, and, greasy]|      15|              3|0.06091370558375635|                3|(20000,[5780,6168...|(20000,[17478,183...|\n",
      "| 17|I love eating the...|          poor taste|    2|[i, love, eating,...|       [poor, taste]|      42|              2|0.19796954314720813|                1|(20000,[855,1036,...|(20000,[8103,1245...|\n",
      "| 27|The candy is just...|     Nasty No flavor|    1|[the, candy, is, ...| [nasty, no, flavor]|      17|              3|0.07106598984771574|                0|(20000,[307,2657,...|(20000,[3075,1029...|\n",
      "| 28|I was so glad Ama...|Great Bargain for...|    4|[i, was, so, glad...|[great, bargain, ...|      37|              5|0.17258883248730963|                0|(20000,[152,1036,...|(20000,[1036,6359...|\n",
      "| 34|This is a good in...|        Good Instant|    4|[this, is, a, goo...|     [good, instant]|      93|              2|0.45685279187817257|                0|(20000,[842,875,9...|(20000,[6168,1125...|\n",
      "| 36|McCann's Instant ...|          satisfying|    4|[mccann, s, insta...|        [satisfying]|      81|              1|0.39593908629441626|                0|(20000,[1036,1062...|(20000,[8983],[1.0])|\n",
      "| 39|I WAS VISITING MY...|GOOD WAY TO START...|    4|[i, was, visiting...|[good, way, to, s...|     100|              6|0.49238578680203043|                0|(20000,[213,307,4...|(20000,[996,5605,...|\n",
      "| 46|This seems a litt...|      Hearty Oatmeal|    3|[this, seems, a, ...|   [hearty, oatmeal]|      42|              2|0.19796954314720813|                0|(20000,[0,572,124...|(20000,[17876,189...|\n",
      "| 48|The flavors are g...|               Mushy|    3|[the, flavors, ar...|             [mushy]|      21|              1|0.09137055837563451|                0|(20000,[4863,5373...|(20000,[19734],[1...|\n",
      "| 49|I really like the...|Very good but nex...|    4|[i, really, like,...|[very, good, but,...|      52|             12|0.24873096446700507|                0|(20000,[760,1860,...|(20000,[1990,4083...|\n",
      "| 50|This is the same ...|          Same stuff|    3|[this, is, the, s...|       [same, stuff]|      37|              2|0.17258883248730963|                0|(20000,[307,2495,...|(20000,[8825,1865...|\n",
      "| 51|This oatmeal is n...|       Don't like it|    1|[this, oatmeal, i...|  [don, t, like, it]|      20|              4|0.08629441624365482|                0|(20000,[2495,3281...|(20000,[2495,3330...|\n",
      "| 54|we're used to spi...|      not ass kickin|    3|[we, re, used, to...|  [not, ass, kickin]|      34|              3|0.15736040609137056|                0|(20000,[147,456,8...|(20000,[2690,7201...|\n",
      "| 55|I roast at home w...|Roasts up a smoot...|    4|[i, roast, at, ho...|[roasts, up, a, s...|      69|              5| 0.3350253807106599|                0|(20000,[246,438,6...|(20000,[3504,3921...|\n",
      "| 61|Watch your prices...|Better price for ...|    3|[watch, your, pri...|[better, price, f...|      31|              6|0.14213197969543148|                0|(20000,[693,1036,...|(20000,[941,1036,...|\n",
      "+---+--------------------+--------------------+-----+--------------------+--------------------+--------+---------------+-------------------+-----------------+--------------------+--------------------+\n",
      "only showing top 20 rows\n",
      "\n"
     ]
    }
   ],
   "source": [
    "df = df.withColumn('NumWordsNormalized', (col('NumWords') - min_words) / (max_words - min_words))\n",
    "df = df.withColumn('ExclamationPoints', size(split(col('Text'), r'!')) - 1)\n",
    "df = HashingTF(inputCol='Tokenized', outputCol='Tfidf', \n",
    "               numFeatures=hyperparameters['num_features']).transform(df)\n",
    "df = HashingTF(inputCol='SummaryTokenized', outputCol='TfidfSummary', \n",
    "               numFeatures=hyperparameters['num_features']).transform(df)\n",
    "\n",
    "df.show()"
   ]
  },
  {
   "cell_type": "markdown",
   "metadata": {},
   "source": [
    "## Clustering"
   ]
  },
  {
   "cell_type": "code",
   "execution_count": null,
   "metadata": {},
   "outputs": [],
   "source": [
    "dataset = df.select('NumWords', 'Score')\n",
    "data = [(Vectors.dense([x[0], x[1]]),) for x in dataset.collect()]\n",
    "dataset = spark.createDataFrame(data, ['features'])\n",
    "kmeans = KMeans().setK(5).setSeed(1)\n",
    "model = kmeans.fit(dataset)\n",
    "predictions = model.transform(dataset)\n",
    "evaluator = ClusteringEvaluator()\n",
    "silhouette = evaluator.evaluate(predictions)\n",
    "print 'Silhouette with squared euclidean distance = ' + str(silhouette)\n",
    "centers = model.clusterCenters()\n",
    "print 'Cluster Centers: '\n",
    "for center in centers:\n",
    "    print(center)"
   ]
  },
  {
   "cell_type": "code",
   "execution_count": null,
   "metadata": {},
   "outputs": [],
   "source": [
    "# %matplotlib inline\n",
    "\n",
    "# import matplotlib.pyplot as plt\n",
    "\n",
    "# # plt.scatter(X[:, 0], X[:, 1], c=y_kmeans, s=50, cmap='viridis')\n",
    "\n",
    "# centers = model.clusterCenters()\n",
    "# plt.scatter(centers[:, 0], centers[:, 1], c='black', s=200, alpha=0.5)"
   ]
  },
  {
   "cell_type": "markdown",
   "metadata": {},
   "source": [
    "## Classification"
   ]
  },
  {
   "cell_type": "code",
   "execution_count": 23,
   "metadata": {},
   "outputs": [],
   "source": [
    "dataset = df.select('TfidfSummary', 'Score').orderBy(rand()).withColumnRenamed(\n",
    "    'TfidfSummary', 'features').withColumnRenamed('Score', 'label')\n",
    "# data = [(x[1], x[0]) for x in dataset.collect()]\n",
    "# dataset = spark.createDataFrame(data, ['label', 'features'])"
   ]
  },
  {
   "cell_type": "markdown",
   "metadata": {},
   "source": [
    "### Logistic Regression"
   ]
  },
  {
   "cell_type": "code",
   "execution_count": 30,
   "metadata": {},
   "outputs": [
    {
     "name": "stdout",
     "output_type": "stream",
     "text": [
      "+--------------------+-----+--------------------+--------------------+----------+\n",
      "|            features|label|       rawPrediction|         probability|prediction|\n",
      "+--------------------+-----+--------------------+--------------------+----------+\n",
      "|       (20000,[],[])|    1|[-1.2888394529874...|[5.28545459350246...|       4.0|\n",
      "|       (20000,[],[])|    1|[-1.2888394529874...|[5.28545459350246...|       4.0|\n",
      "|       (20000,[],[])|    1|[-1.2888394529874...|[5.28545459350246...|       4.0|\n",
      "|       (20000,[],[])|    3|[-1.2888394529874...|[5.28545459350246...|       4.0|\n",
      "|       (20000,[],[])|    4|[-1.2888394529874...|[5.28545459350246...|       4.0|\n",
      "|(20000,[0,572,408...|    3|[-1.2888394529874...|[5.28545459350246...|       4.0|\n",
      "|(20000,[0,572,506...|    3|[-1.2888394529874...|[5.28545459350246...|       4.0|\n",
      "|(20000,[0,572,573...|    3|[-1.2888394529874...|[5.28545459350246...|       4.0|\n",
      "|(20000,[0,941,365...|    1|[-1.2888394529874...|[5.28545459350246...|       4.0|\n",
      "|(20000,[0,941,408...|    3|[-1.2888394529874...|[5.28545459350246...|       4.0|\n",
      "|(20000,[0,5760,61...|    1|[-1.2888394529874...|[5.28545459350246...|       4.0|\n",
      "|(20000,[0,5924,13...|    4|[-1.2888394529874...|[5.28545459350246...|       4.0|\n",
      "|(20000,[0,9018,15...|    3|[-1.2888394529874...|[5.28545459350246...|       4.0|\n",
      "|(20000,[0,13261,1...|    4|[-1.2888394529874...|[5.28545459350246...|       4.0|\n",
      "|   (20000,[3],[1.0])|    2|[-1.2888394529874...|[5.28545459350246...|       4.0|\n",
      "|(20000,[9,728,222...|    2|[-1.2888394529874...|[5.28545459350246...|       4.0|\n",
      "|(20000,[12,78,543...|    1|[-1.2888394529874...|[5.28545459350246...|       4.0|\n",
      "|(20000,[15,307,18...|    3|[-1.2888394529874...|[5.28545459350246...|       4.0|\n",
      "|(20000,[15,579,10...|    3|[-1.2888394529874...|[5.28545459350246...|       4.0|\n",
      "|(20000,[15,941,91...|    3|[-1.2888394529874...|[5.28545459350246...|       4.0|\n",
      "+--------------------+-----+--------------------+--------------------+----------+\n",
      "only showing top 20 rows\n",
      "\n",
      "Test Error = 0.714716 \n",
      "+-----+--------------------+\n",
      "|label|            features|\n",
      "+-----+--------------------+\n",
      "|    1|       (20000,[],[])|\n",
      "|    1|       (20000,[],[])|\n",
      "|    1|       (20000,[],[])|\n",
      "|    3|       (20000,[],[])|\n",
      "|    4|       (20000,[],[])|\n",
      "|    3|(20000,[0,572,408...|\n",
      "|    3|(20000,[0,572,506...|\n",
      "|    3|(20000,[0,572,573...|\n",
      "|    1|(20000,[0,941,365...|\n",
      "|    3|(20000,[0,941,408...|\n",
      "|    1|(20000,[0,5760,61...|\n",
      "|    4|(20000,[0,5924,13...|\n",
      "|    3|(20000,[0,9018,15...|\n",
      "|    4|(20000,[0,13261,1...|\n",
      "|    2|   (20000,[3],[1.0])|\n",
      "|    2|(20000,[9,728,222...|\n",
      "|    1|(20000,[12,78,543...|\n",
      "|    3|(20000,[15,307,18...|\n",
      "|    3|(20000,[15,579,10...|\n",
      "|    3|(20000,[15,941,91...|\n",
      "+-----+--------------------+\n",
      "only showing top 20 rows\n",
      "\n"
     ]
    }
   ],
   "source": [
    "from pyspark.ml.classification import LogisticRegression\n",
    "\n",
    "lr = LogisticRegression(maxIter=10, regParam=0.3, elasticNetParam=0.8)\n",
    "(training, testing) = dataset.randomSplit([0.7, 0.3], seed=42)\n",
    "lrModel = lr.fit(training)\n",
    "predictions = lrModel.transform(testing)\n",
    "evaluator = MulticlassClassificationEvaluator(labelCol='label', predictionCol='prediction',\n",
    "                                              metricName='accuracy')\n",
    "accuracy = evaluator.evaluate(predictions)\n",
    "print 'Test Error = %g ' % (1.0 - accuracy)\n",
    "predictions.select('label', 'features').show()"
   ]
  },
  {
   "cell_type": "markdown",
   "metadata": {},
   "source": [
    "### Evaluation"
   ]
  },
  {
   "cell_type": "code",
   "execution_count": 32,
   "metadata": {},
   "outputs": [
    {
     "name": "stdout",
     "output_type": "stream",
     "text": [
      "Summary Stats\n",
      "Accuracy = 0.28528418825\n",
      "Precision = 0.28528418825\n",
      "Recall = 0.28528418825\n",
      "F1 Score = 0.28528418825\n",
      "Class 1.0 precision = 0.0\n",
      "Class 1.0 recall = 0.0\n",
      "Class 1.0 F1 Measure = 0.0\n",
      "Class 2.0 precision = 0.0\n",
      "Class 2.0 recall = 0.0\n",
      "Class 2.0 F1 Measure = 0.0\n",
      "Class 3.0 precision = 0.0\n",
      "Class 3.0 recall = 0.0\n",
      "Class 3.0 F1 Measure = 0.0\n",
      "Class 4.0 precision = 0.28528418825\n",
      "Class 4.0 recall = 1.0\n",
      "Class 4.0 F1 Measure = 0.44392390548\n",
      "Class 5.0 precision = 0.0\n",
      "Class 5.0 recall = 0.0\n",
      "Class 5.0 F1 Measure = 0.0\n",
      "Weighted recall = 0.28528418825\n",
      "Weighted precision = 0.0813870680652\n",
      "Weighted F(1) Score = 0.126644471019\n",
      "Weighted F(0.5) Score = 0.0949611093336\n",
      "Weighted false positive rate = 0.28528418825\n"
     ]
    }
   ],
   "source": [
    "predictionAndLabels = sc.parallelize([(float(x[0]), float(x[1])) \n",
    "                                      for x in predictions.select('prediction', 'label').collect()])\n",
    "metrics = MulticlassMetrics(predictionAndLabels)\n",
    "print 'Summary Stats'\n",
    "print 'Accuracy = %s' % metrics.accuracy\n",
    "print 'Precision = %s' % metrics.precision()\n",
    "print 'Recall = %s' % metrics.recall()\n",
    "print 'F1 Score = %s' % metrics.fMeasure()\n",
    "for label in [float(x) for x in range(1, 6)]:\n",
    "    print 'Class %s precision = %s' % (label, metrics.precision(label))\n",
    "    print 'Class %s recall = %s' % (label, metrics.recall(label))\n",
    "    print 'Class %s F1 Measure = %s' % (label, metrics.fMeasure(label, beta=1.0))\n",
    "print 'Weighted recall = %s' % metrics.weightedRecall\n",
    "print 'Weighted precision = %s' % metrics.weightedPrecision\n",
    "print 'Weighted F(1) Score = %s' % metrics.weightedFMeasure()\n",
    "print 'Weighted F(0.5) Score = %s' % metrics.weightedFMeasure(beta=0.5)\n",
    "print 'Weighted false positive rate = %s' % metrics.weightedFalsePositiveRate"
   ]
  },
  {
   "cell_type": "markdown",
   "metadata": {},
   "source": [
    "### Random Forest"
   ]
  },
  {
   "cell_type": "code",
   "execution_count": null,
   "metadata": {},
   "outputs": [],
   "source": [
    "labelIndexer = StringIndexer(inputCol='label', outputCol='indexedLabel').fit(dataset)\n",
    "featureIndexer = VectorIndexer(inputCol='features', outputCol='indexedFeatures', \n",
    "                               maxCategories=hyperparameters['max_categories']).fit(dataset)\n",
    "(trainingData, testData) = dataset.randomSplit([0.7, 0.3], seed=42)\n",
    "rf = RandomForestClassifier(labelCol='indexedLabel', featuresCol='indexedFeatures', \n",
    "                            numTrees=hyperparameters['num_trees'])\n",
    "labelConverter = IndexToString(inputCol='prediction', outputCol='predictedLabel',\n",
    "                               labels=labelIndexer.labels)\n",
    "pipeline = Pipeline(stages=[labelIndexer, featureIndexer, rf, labelConverter])\n",
    "model = pipeline.fit(trainingData)\n",
    "predictions = model.transform(testData)\n",
    "evaluator = MulticlassClassificationEvaluator(labelCol='indexedLabel', \n",
    "                                              predictionCol='prediction', metricName='accuracy')\n",
    "accuracy = evaluator.evaluate(predictions)\n",
    "print 'Test Error = %g ' % (1.0 - accuracy)\n",
    "predictions.select('predictedLabel', 'label', 'features').show()"
   ]
  },
  {
   "cell_type": "markdown",
   "metadata": {},
   "source": [
    "### Evaluation"
   ]
  },
  {
   "cell_type": "code",
   "execution_count": null,
   "metadata": {},
   "outputs": [],
   "source": [
    "predictionAndLabels = sc.parallelize([(float(x[0]), float(x[1])) \n",
    "                                      for x in predictions.select('predictedLabel', 'label').collect()])\n",
    "metrics = MulticlassMetrics(predictionAndLabels)\n",
    "print 'Summary Stats'\n",
    "print 'Accuracy = %s' % metrics.accuracy\n",
    "print 'Precision = %s' % metrics.precision()\n",
    "print 'Recall = %s' % metrics.recall()\n",
    "print 'F1 Score = %s' % metrics.fMeasure()\n",
    "for label in [float(x) for x in range(1, 6)]:\n",
    "    print 'Class %s precision = %s' % (label, metrics.precision(label))\n",
    "    print 'Class %s recall = %s' % (label, metrics.recall(label))\n",
    "    print 'Class %s F1 Measure = %s' % (label, metrics.fMeasure(label, beta=1.0))\n",
    "print 'Weighted recall = %s' % metrics.weightedRecall\n",
    "print 'Weighted precision = %s' % metrics.weightedPrecision\n",
    "print 'Weighted F(1) Score = %s' % metrics.weightedFMeasure()\n",
    "print 'Weighted F(0.5) Score = %s' % metrics.weightedFMeasure(beta=0.5)\n",
    "print 'Weighted false positive rate = %s' % metrics.weightedFalsePositiveRate"
   ]
  },
  {
   "cell_type": "markdown",
   "metadata": {},
   "source": [
    "### NaiveBayes"
   ]
  },
  {
   "cell_type": "code",
   "execution_count": 24,
   "metadata": {},
   "outputs": [
    {
     "name": "stdout",
     "output_type": "stream",
     "text": [
      "+--------------------+-----+--------------------+--------------------+----------+\n",
      "|            features|label|       rawPrediction|         probability|prediction|\n",
      "+--------------------+-----+--------------------+--------------------+----------+\n",
      "|       (20000,[],[])|    1|[-1.6635304193209...|[0.18946889331216...|       3.0|\n",
      "|       (20000,[],[])|    1|[-1.6635304193209...|[0.18946889331216...|       3.0|\n",
      "|       (20000,[],[])|    3|[-1.6635304193209...|[0.18946889331216...|       3.0|\n",
      "|(20000,[0,332,941...|    1|[-73.359434901034...|[0.21674963654276...|       2.0|\n",
      "|(20000,[0,332,941...|    1|[-73.359434901034...|[0.21674963654276...|       2.0|\n",
      "|(20000,[0,332,408...|    2|[-75.399185676728...|[5.47350996842138...|       3.0|\n",
      "|(20000,[0,572,392...|    4|[-70.442964580578...|[0.00453700174388...|       2.0|\n",
      "|(20000,[0,572,393...|    3|[-82.851597258361...|[0.00269268121911...|       2.0|\n",
      "|(20000,[0,941,247...|    4|[-66.740541904092...|[4.99386781630339...|       2.0|\n",
      "|(20000,[0,941,365...|    1|[-46.641846131612...|[0.08906568201147...|       2.0|\n",
      "|(20000,[0,941,408...|    3|[-40.628944711764...|[0.00202399591766...|       2.0|\n",
      "|(20000,[0,941,474...|    3|[-30.725782837694...|[0.06841012250305...|       2.0|\n",
      "|(20000,[0,941,783...|    2|[-30.460796321445...|[0.04010523854004...|       2.0|\n",
      "|(20000,[0,941,837...|    2|[-32.563959961730...|[0.03544632670300...|       3.0|\n",
      "|(20000,[0,941,117...|    4|[-39.083789686484...|[0.01008599319336...|       3.0|\n",
      "|(20000,[0,2495,29...|    3|[-81.777552411488...|[6.57333756457113...|       3.0|\n",
      "|(20000,[0,5924,13...|    4|[-46.694624739281...|[0.00426332208429...|       3.0|\n",
      "|(20000,[0,8440,99...|    4|[-68.829207678624...|[2.81813413529592...|       4.0|\n",
      "|(20000,[0,13261,1...|    4|[-32.840791096740...|[0.02616450433277...|       3.0|\n",
      "|(20000,[1,1860,10...|    1|[-34.586454746027...|[0.20428510427611...|       3.0|\n",
      "+--------------------+-----+--------------------+--------------------+----------+\n",
      "only showing top 20 rows\n",
      "\n",
      "Test Error = 0.833852 \n",
      "+-----+--------------------+\n",
      "|label|            features|\n",
      "+-----+--------------------+\n",
      "|    1|       (20000,[],[])|\n",
      "|    1|       (20000,[],[])|\n",
      "|    3|       (20000,[],[])|\n",
      "|    1|(20000,[0,332,941...|\n",
      "|    1|(20000,[0,332,941...|\n",
      "|    2|(20000,[0,332,408...|\n",
      "|    4|(20000,[0,572,392...|\n",
      "|    3|(20000,[0,572,393...|\n",
      "|    4|(20000,[0,941,247...|\n",
      "|    1|(20000,[0,941,365...|\n",
      "|    3|(20000,[0,941,408...|\n",
      "|    3|(20000,[0,941,474...|\n",
      "|    2|(20000,[0,941,783...|\n",
      "|    2|(20000,[0,941,837...|\n",
      "|    4|(20000,[0,941,117...|\n",
      "|    3|(20000,[0,2495,29...|\n",
      "|    4|(20000,[0,5924,13...|\n",
      "|    4|(20000,[0,8440,99...|\n",
      "|    4|(20000,[0,13261,1...|\n",
      "|    1|(20000,[1,1860,10...|\n",
      "+-----+--------------------+\n",
      "only showing top 20 rows\n",
      "\n"
     ]
    }
   ],
   "source": [
    "(trainingData, testData) = dataset.randomSplit([0.7, 0.3], seed=42)\n",
    "predictions = NaiveBayes(smoothing=hyperparameters['smoothing'], \n",
    "                         modelType='multinomial').fit(trainingData).transform(testData)\n",
    "evaluator = MulticlassClassificationEvaluator(labelCol='label', predictionCol='prediction',\n",
    "                                              metricName='accuracy')\n",
    "accuracy = evaluator.evaluate(predictions)\n",
    "print 'Test Error = %g ' % (1.0 - accuracy)\n",
    "predictions.select('label', 'features').show()"
   ]
  },
  {
   "cell_type": "markdown",
   "metadata": {},
   "source": [
    "### Evaluation"
   ]
  },
  {
   "cell_type": "code",
   "execution_count": 20,
   "metadata": {},
   "outputs": [
    {
     "name": "stdout",
     "output_type": "stream",
     "text": [
      "Summary Stats\n",
      "Accuracy = 0.167470944922\n",
      "Precision = 0.167470944922\n",
      "Recall = 0.167470944922\n",
      "F1 Score = 0.167470944922\n",
      "Class 1.0 precision = 0.24070961718\n",
      "Class 1.0 recall = 0.0862495817999\n",
      "Class 1.0 F1 Measure = 0.126995073892\n",
      "Class 2.0 precision = 0.159756219403\n",
      "Class 2.0 recall = 0.188073394495\n",
      "Class 2.0 F1 Measure = 0.172762141429\n",
      "Class 3.0 precision = 0.149940760893\n",
      "Class 3.0 recall = 0.282490079365\n",
      "Class 3.0 F1 Measure = 0.19590081697\n",
      "Class 4.0 precision = 0.288836262412\n",
      "Class 4.0 recall = 0.308279012017\n",
      "Class 4.0 F1 Measure = 0.298241098241\n",
      "Class 5.0 precision = 0.0\n",
      "Class 5.0 recall = 0.0\n",
      "Class 5.0 F1 Measure = 0.0\n",
      "Weighted recall = 0.167470944922\n",
      "Weighted precision = 0.167797910606\n",
      "Weighted F(1) Score = 0.157428201039\n",
      "Weighted F(0.5) Score = 0.15977010918\n",
      "Weighted false positive rate = 0.155016060466\n"
     ]
    }
   ],
   "source": [
    "predictionAndLabels = sc.parallelize([(float(x[0]), float(x[1])) \n",
    "                                      for x in predictions.select('prediction', 'label').collect()])\n",
    "metrics = MulticlassMetrics(predictionAndLabels)\n",
    "print 'Summary Stats'\n",
    "print 'Accuracy = %s' % metrics.accuracy\n",
    "print 'Precision = %s' % metrics.precision()\n",
    "print 'Recall = %s' % metrics.recall()\n",
    "print 'F1 Score = %s' % metrics.fMeasure()\n",
    "for label in [float(x) for x in range(1, 6)]:\n",
    "    print 'Class %s precision = %s' % (label, metrics.precision(label))\n",
    "    print 'Class %s recall = %s' % (label, metrics.recall(label))\n",
    "    print 'Class %s F1 Measure = %s' % (label, metrics.fMeasure(label, beta=1.0))\n",
    "print 'Weighted recall = %s' % metrics.weightedRecall\n",
    "print 'Weighted precision = %s' % metrics.weightedPrecision\n",
    "print 'Weighted F(1) Score = %s' % metrics.weightedFMeasure()\n",
    "print 'Weighted F(0.5) Score = %s' % metrics.weightedFMeasure(beta=0.5)\n",
    "print 'Weighted false positive rate = %s' % metrics.weightedFalsePositiveRate"
   ]
  },
  {
   "cell_type": "markdown",
   "metadata": {},
   "source": [
    "### XG Boost"
   ]
  },
  {
   "cell_type": "code",
   "execution_count": 27,
   "metadata": {},
   "outputs": [
    {
     "ename": "Py4JJavaError",
     "evalue": "An error occurred while calling o652.fit.\n: org.apache.spark.SparkException: Job aborted due to stage failure: Total size of serialized results of 88 tasks (1029.2 MB) is bigger than spark.driver.maxResultSize (1024.0 MB)\n\tat org.apache.spark.scheduler.DAGScheduler.org$apache$spark$scheduler$DAGScheduler$$failJobAndIndependentStages(DAGScheduler.scala:1887)\n\tat org.apache.spark.scheduler.DAGScheduler$$anonfun$abortStage$1.apply(DAGScheduler.scala:1875)\n\tat org.apache.spark.scheduler.DAGScheduler$$anonfun$abortStage$1.apply(DAGScheduler.scala:1874)\n\tat scala.collection.mutable.ResizableArray$class.foreach(ResizableArray.scala:59)\n\tat scala.collection.mutable.ArrayBuffer.foreach(ArrayBuffer.scala:48)\n\tat org.apache.spark.scheduler.DAGScheduler.abortStage(DAGScheduler.scala:1874)\n\tat org.apache.spark.scheduler.DAGScheduler$$anonfun$handleTaskSetFailed$1.apply(DAGScheduler.scala:926)\n\tat org.apache.spark.scheduler.DAGScheduler$$anonfun$handleTaskSetFailed$1.apply(DAGScheduler.scala:926)\n\tat scala.Option.foreach(Option.scala:257)\n\tat org.apache.spark.scheduler.DAGScheduler.handleTaskSetFailed(DAGScheduler.scala:926)\n\tat org.apache.spark.scheduler.DAGSchedulerEventProcessLoop.doOnReceive(DAGScheduler.scala:2108)\n\tat org.apache.spark.scheduler.DAGSchedulerEventProcessLoop.onReceive(DAGScheduler.scala:2057)\n\tat org.apache.spark.scheduler.DAGSchedulerEventProcessLoop.onReceive(DAGScheduler.scala:2046)\n\tat org.apache.spark.util.EventLoop$$anon$1.run(EventLoop.scala:49)\n\tat org.apache.spark.scheduler.DAGScheduler.runJob(DAGScheduler.scala:737)\n\tat org.apache.spark.SparkContext.runJob(SparkContext.scala:2061)\n\tat org.apache.spark.SparkContext.runJob(SparkContext.scala:2158)\n\tat org.apache.spark.rdd.RDD$$anonfun$reduce$1.apply(RDD.scala:1035)\n\tat org.apache.spark.rdd.RDDOperationScope$.withScope(RDDOperationScope.scala:151)\n\tat org.apache.spark.rdd.RDDOperationScope$.withScope(RDDOperationScope.scala:112)\n\tat org.apache.spark.rdd.RDD.withScope(RDD.scala:363)\n\tat org.apache.spark.rdd.RDD.reduce(RDD.scala:1017)\n\tat org.apache.spark.ml.feature.VectorIndexer.fit(VectorIndexer.scala:154)\n\tat org.apache.spark.ml.feature.VectorIndexer.fit(VectorIndexer.scala:119)\n\tat sun.reflect.NativeMethodAccessorImpl.invoke0(Native Method)\n\tat sun.reflect.NativeMethodAccessorImpl.invoke(NativeMethodAccessorImpl.java:62)\n\tat sun.reflect.DelegatingMethodAccessorImpl.invoke(DelegatingMethodAccessorImpl.java:43)\n\tat java.lang.reflect.Method.invoke(Method.java:498)\n\tat py4j.reflection.MethodInvoker.invoke(MethodInvoker.java:244)\n\tat py4j.reflection.ReflectionEngine.invoke(ReflectionEngine.java:357)\n\tat py4j.Gateway.invoke(Gateway.java:282)\n\tat py4j.commands.AbstractCommand.invokeMethod(AbstractCommand.java:132)\n\tat py4j.commands.CallCommand.execute(CallCommand.java:79)\n\tat py4j.GatewayConnection.run(GatewayConnection.java:238)\n\tat java.lang.Thread.run(Thread.java:748)\n",
     "output_type": "error",
     "traceback": [
      "\u001b[0;31m---------------------------------------------------------------------------\u001b[0m",
      "\u001b[0;31mPy4JJavaError\u001b[0m                             Traceback (most recent call last)",
      "\u001b[0;32m<ipython-input-27-efb513f97a69>\u001b[0m in \u001b[0;36m<module>\u001b[0;34m()\u001b[0m\n\u001b[1;32m      5\u001b[0m \u001b[0;34m\u001b[0m\u001b[0m\n\u001b[1;32m      6\u001b[0m \u001b[0mlabelIndexer\u001b[0m \u001b[0;34m=\u001b[0m \u001b[0mStringIndexer\u001b[0m\u001b[0;34m(\u001b[0m\u001b[0minputCol\u001b[0m\u001b[0;34m=\u001b[0m\u001b[0;34m\"label\"\u001b[0m\u001b[0;34m,\u001b[0m \u001b[0moutputCol\u001b[0m\u001b[0;34m=\u001b[0m\u001b[0;34m\"indexedLabel\"\u001b[0m\u001b[0;34m)\u001b[0m\u001b[0;34m.\u001b[0m\u001b[0mfit\u001b[0m\u001b[0;34m(\u001b[0m\u001b[0mdataset\u001b[0m\u001b[0;34m)\u001b[0m\u001b[0;34m\u001b[0m\u001b[0m\n\u001b[0;32m----> 7\u001b[0;31m \u001b[0mfeatureIndexer\u001b[0m \u001b[0;34m=\u001b[0m \u001b[0mVectorIndexer\u001b[0m\u001b[0;34m(\u001b[0m\u001b[0minputCol\u001b[0m\u001b[0;34m=\u001b[0m\u001b[0;34m\"features\"\u001b[0m\u001b[0;34m,\u001b[0m \u001b[0moutputCol\u001b[0m\u001b[0;34m=\u001b[0m\u001b[0;34m\"indexedFeatures\"\u001b[0m\u001b[0;34m,\u001b[0m \u001b[0mmaxCategories\u001b[0m\u001b[0;34m=\u001b[0m\u001b[0;36m4\u001b[0m\u001b[0;34m)\u001b[0m\u001b[0;34m.\u001b[0m\u001b[0mfit\u001b[0m\u001b[0;34m(\u001b[0m\u001b[0mdataset\u001b[0m\u001b[0;34m)\u001b[0m\u001b[0;34m\u001b[0m\u001b[0m\n\u001b[0m\u001b[1;32m      8\u001b[0m \u001b[0;34m(\u001b[0m\u001b[0mtrainingData\u001b[0m\u001b[0;34m,\u001b[0m \u001b[0mtestData\u001b[0m\u001b[0;34m)\u001b[0m \u001b[0;34m=\u001b[0m \u001b[0mdataset\u001b[0m\u001b[0;34m.\u001b[0m\u001b[0mrandomSplit\u001b[0m\u001b[0;34m(\u001b[0m\u001b[0;34m[\u001b[0m\u001b[0;36m0.7\u001b[0m\u001b[0;34m,\u001b[0m \u001b[0;36m0.3\u001b[0m\u001b[0;34m]\u001b[0m\u001b[0;34m,\u001b[0m \u001b[0mseed\u001b[0m\u001b[0;34m=\u001b[0m\u001b[0;36m42\u001b[0m\u001b[0;34m)\u001b[0m\u001b[0;34m\u001b[0m\u001b[0m\n\u001b[1;32m      9\u001b[0m \u001b[0mgbt\u001b[0m \u001b[0;34m=\u001b[0m \u001b[0mGBTClassifier\u001b[0m\u001b[0;34m(\u001b[0m\u001b[0mlabelCol\u001b[0m\u001b[0;34m=\u001b[0m\u001b[0;34m\"indexedLabel\"\u001b[0m\u001b[0;34m,\u001b[0m \u001b[0mfeaturesCol\u001b[0m\u001b[0;34m=\u001b[0m\u001b[0;34m\"indexedFeatures\"\u001b[0m\u001b[0;34m,\u001b[0m \u001b[0mmaxIter\u001b[0m\u001b[0;34m=\u001b[0m\u001b[0;36m10\u001b[0m\u001b[0;34m)\u001b[0m\u001b[0;34m\u001b[0m\u001b[0m\n",
      "\u001b[0;32m/opt/spark/python/pyspark/ml/base.pyc\u001b[0m in \u001b[0;36mfit\u001b[0;34m(self, dataset, params)\u001b[0m\n\u001b[1;32m    130\u001b[0m                 \u001b[0;32mreturn\u001b[0m \u001b[0mself\u001b[0m\u001b[0;34m.\u001b[0m\u001b[0mcopy\u001b[0m\u001b[0;34m(\u001b[0m\u001b[0mparams\u001b[0m\u001b[0;34m)\u001b[0m\u001b[0;34m.\u001b[0m\u001b[0m_fit\u001b[0m\u001b[0;34m(\u001b[0m\u001b[0mdataset\u001b[0m\u001b[0;34m)\u001b[0m\u001b[0;34m\u001b[0m\u001b[0m\n\u001b[1;32m    131\u001b[0m             \u001b[0;32melse\u001b[0m\u001b[0;34m:\u001b[0m\u001b[0;34m\u001b[0m\u001b[0m\n\u001b[0;32m--> 132\u001b[0;31m                 \u001b[0;32mreturn\u001b[0m \u001b[0mself\u001b[0m\u001b[0;34m.\u001b[0m\u001b[0m_fit\u001b[0m\u001b[0;34m(\u001b[0m\u001b[0mdataset\u001b[0m\u001b[0;34m)\u001b[0m\u001b[0;34m\u001b[0m\u001b[0m\n\u001b[0m\u001b[1;32m    133\u001b[0m         \u001b[0;32melse\u001b[0m\u001b[0;34m:\u001b[0m\u001b[0;34m\u001b[0m\u001b[0m\n\u001b[1;32m    134\u001b[0m             raise ValueError(\"Params must be either a param map or a list/tuple of param maps, \"\n",
      "\u001b[0;32m/opt/spark/python/pyspark/ml/wrapper.pyc\u001b[0m in \u001b[0;36m_fit\u001b[0;34m(self, dataset)\u001b[0m\n\u001b[1;32m    293\u001b[0m \u001b[0;34m\u001b[0m\u001b[0m\n\u001b[1;32m    294\u001b[0m     \u001b[0;32mdef\u001b[0m \u001b[0m_fit\u001b[0m\u001b[0;34m(\u001b[0m\u001b[0mself\u001b[0m\u001b[0;34m,\u001b[0m \u001b[0mdataset\u001b[0m\u001b[0;34m)\u001b[0m\u001b[0;34m:\u001b[0m\u001b[0;34m\u001b[0m\u001b[0m\n\u001b[0;32m--> 295\u001b[0;31m         \u001b[0mjava_model\u001b[0m \u001b[0;34m=\u001b[0m \u001b[0mself\u001b[0m\u001b[0;34m.\u001b[0m\u001b[0m_fit_java\u001b[0m\u001b[0;34m(\u001b[0m\u001b[0mdataset\u001b[0m\u001b[0;34m)\u001b[0m\u001b[0;34m\u001b[0m\u001b[0m\n\u001b[0m\u001b[1;32m    296\u001b[0m         \u001b[0mmodel\u001b[0m \u001b[0;34m=\u001b[0m \u001b[0mself\u001b[0m\u001b[0;34m.\u001b[0m\u001b[0m_create_model\u001b[0m\u001b[0;34m(\u001b[0m\u001b[0mjava_model\u001b[0m\u001b[0;34m)\u001b[0m\u001b[0;34m\u001b[0m\u001b[0m\n\u001b[1;32m    297\u001b[0m         \u001b[0;32mreturn\u001b[0m \u001b[0mself\u001b[0m\u001b[0;34m.\u001b[0m\u001b[0m_copyValues\u001b[0m\u001b[0;34m(\u001b[0m\u001b[0mmodel\u001b[0m\u001b[0;34m)\u001b[0m\u001b[0;34m\u001b[0m\u001b[0m\n",
      "\u001b[0;32m/opt/spark/python/pyspark/ml/wrapper.pyc\u001b[0m in \u001b[0;36m_fit_java\u001b[0;34m(self, dataset)\u001b[0m\n\u001b[1;32m    290\u001b[0m         \"\"\"\n\u001b[1;32m    291\u001b[0m         \u001b[0mself\u001b[0m\u001b[0;34m.\u001b[0m\u001b[0m_transfer_params_to_java\u001b[0m\u001b[0;34m(\u001b[0m\u001b[0;34m)\u001b[0m\u001b[0;34m\u001b[0m\u001b[0m\n\u001b[0;32m--> 292\u001b[0;31m         \u001b[0;32mreturn\u001b[0m \u001b[0mself\u001b[0m\u001b[0;34m.\u001b[0m\u001b[0m_java_obj\u001b[0m\u001b[0;34m.\u001b[0m\u001b[0mfit\u001b[0m\u001b[0;34m(\u001b[0m\u001b[0mdataset\u001b[0m\u001b[0;34m.\u001b[0m\u001b[0m_jdf\u001b[0m\u001b[0;34m)\u001b[0m\u001b[0;34m\u001b[0m\u001b[0m\n\u001b[0m\u001b[1;32m    293\u001b[0m \u001b[0;34m\u001b[0m\u001b[0m\n\u001b[1;32m    294\u001b[0m     \u001b[0;32mdef\u001b[0m \u001b[0m_fit\u001b[0m\u001b[0;34m(\u001b[0m\u001b[0mself\u001b[0m\u001b[0;34m,\u001b[0m \u001b[0mdataset\u001b[0m\u001b[0;34m)\u001b[0m\u001b[0;34m:\u001b[0m\u001b[0;34m\u001b[0m\u001b[0m\n",
      "\u001b[0;32m/opt/spark/python/lib/py4j-0.10.7-src.zip/py4j/java_gateway.py\u001b[0m in \u001b[0;36m__call__\u001b[0;34m(self, *args)\u001b[0m\n\u001b[1;32m   1255\u001b[0m         \u001b[0manswer\u001b[0m \u001b[0;34m=\u001b[0m \u001b[0mself\u001b[0m\u001b[0;34m.\u001b[0m\u001b[0mgateway_client\u001b[0m\u001b[0;34m.\u001b[0m\u001b[0msend_command\u001b[0m\u001b[0;34m(\u001b[0m\u001b[0mcommand\u001b[0m\u001b[0;34m)\u001b[0m\u001b[0;34m\u001b[0m\u001b[0m\n\u001b[1;32m   1256\u001b[0m         return_value = get_return_value(\n\u001b[0;32m-> 1257\u001b[0;31m             answer, self.gateway_client, self.target_id, self.name)\n\u001b[0m\u001b[1;32m   1258\u001b[0m \u001b[0;34m\u001b[0m\u001b[0m\n\u001b[1;32m   1259\u001b[0m         \u001b[0;32mfor\u001b[0m \u001b[0mtemp_arg\u001b[0m \u001b[0;32min\u001b[0m \u001b[0mtemp_args\u001b[0m\u001b[0;34m:\u001b[0m\u001b[0;34m\u001b[0m\u001b[0m\n",
      "\u001b[0;32m/opt/spark/python/pyspark/sql/utils.pyc\u001b[0m in \u001b[0;36mdeco\u001b[0;34m(*a, **kw)\u001b[0m\n\u001b[1;32m     61\u001b[0m     \u001b[0;32mdef\u001b[0m \u001b[0mdeco\u001b[0m\u001b[0;34m(\u001b[0m\u001b[0;34m*\u001b[0m\u001b[0ma\u001b[0m\u001b[0;34m,\u001b[0m \u001b[0;34m**\u001b[0m\u001b[0mkw\u001b[0m\u001b[0;34m)\u001b[0m\u001b[0;34m:\u001b[0m\u001b[0;34m\u001b[0m\u001b[0m\n\u001b[1;32m     62\u001b[0m         \u001b[0;32mtry\u001b[0m\u001b[0;34m:\u001b[0m\u001b[0;34m\u001b[0m\u001b[0m\n\u001b[0;32m---> 63\u001b[0;31m             \u001b[0;32mreturn\u001b[0m \u001b[0mf\u001b[0m\u001b[0;34m(\u001b[0m\u001b[0;34m*\u001b[0m\u001b[0ma\u001b[0m\u001b[0;34m,\u001b[0m \u001b[0;34m**\u001b[0m\u001b[0mkw\u001b[0m\u001b[0;34m)\u001b[0m\u001b[0;34m\u001b[0m\u001b[0m\n\u001b[0m\u001b[1;32m     64\u001b[0m         \u001b[0;32mexcept\u001b[0m \u001b[0mpy4j\u001b[0m\u001b[0;34m.\u001b[0m\u001b[0mprotocol\u001b[0m\u001b[0;34m.\u001b[0m\u001b[0mPy4JJavaError\u001b[0m \u001b[0;32mas\u001b[0m \u001b[0me\u001b[0m\u001b[0;34m:\u001b[0m\u001b[0;34m\u001b[0m\u001b[0m\n\u001b[1;32m     65\u001b[0m             \u001b[0ms\u001b[0m \u001b[0;34m=\u001b[0m \u001b[0me\u001b[0m\u001b[0;34m.\u001b[0m\u001b[0mjava_exception\u001b[0m\u001b[0;34m.\u001b[0m\u001b[0mtoString\u001b[0m\u001b[0;34m(\u001b[0m\u001b[0;34m)\u001b[0m\u001b[0;34m\u001b[0m\u001b[0m\n",
      "\u001b[0;32m/opt/spark/python/lib/py4j-0.10.7-src.zip/py4j/protocol.py\u001b[0m in \u001b[0;36mget_return_value\u001b[0;34m(answer, gateway_client, target_id, name)\u001b[0m\n\u001b[1;32m    326\u001b[0m                 raise Py4JJavaError(\n\u001b[1;32m    327\u001b[0m                     \u001b[0;34m\"An error occurred while calling {0}{1}{2}.\\n\"\u001b[0m\u001b[0;34m.\u001b[0m\u001b[0;34m\u001b[0m\u001b[0m\n\u001b[0;32m--> 328\u001b[0;31m                     format(target_id, \".\", name), value)\n\u001b[0m\u001b[1;32m    329\u001b[0m             \u001b[0;32melse\u001b[0m\u001b[0;34m:\u001b[0m\u001b[0;34m\u001b[0m\u001b[0m\n\u001b[1;32m    330\u001b[0m                 raise Py4JError(\n",
      "\u001b[0;31mPy4JJavaError\u001b[0m: An error occurred while calling o652.fit.\n: org.apache.spark.SparkException: Job aborted due to stage failure: Total size of serialized results of 88 tasks (1029.2 MB) is bigger than spark.driver.maxResultSize (1024.0 MB)\n\tat org.apache.spark.scheduler.DAGScheduler.org$apache$spark$scheduler$DAGScheduler$$failJobAndIndependentStages(DAGScheduler.scala:1887)\n\tat org.apache.spark.scheduler.DAGScheduler$$anonfun$abortStage$1.apply(DAGScheduler.scala:1875)\n\tat org.apache.spark.scheduler.DAGScheduler$$anonfun$abortStage$1.apply(DAGScheduler.scala:1874)\n\tat scala.collection.mutable.ResizableArray$class.foreach(ResizableArray.scala:59)\n\tat scala.collection.mutable.ArrayBuffer.foreach(ArrayBuffer.scala:48)\n\tat org.apache.spark.scheduler.DAGScheduler.abortStage(DAGScheduler.scala:1874)\n\tat org.apache.spark.scheduler.DAGScheduler$$anonfun$handleTaskSetFailed$1.apply(DAGScheduler.scala:926)\n\tat org.apache.spark.scheduler.DAGScheduler$$anonfun$handleTaskSetFailed$1.apply(DAGScheduler.scala:926)\n\tat scala.Option.foreach(Option.scala:257)\n\tat org.apache.spark.scheduler.DAGScheduler.handleTaskSetFailed(DAGScheduler.scala:926)\n\tat org.apache.spark.scheduler.DAGSchedulerEventProcessLoop.doOnReceive(DAGScheduler.scala:2108)\n\tat org.apache.spark.scheduler.DAGSchedulerEventProcessLoop.onReceive(DAGScheduler.scala:2057)\n\tat org.apache.spark.scheduler.DAGSchedulerEventProcessLoop.onReceive(DAGScheduler.scala:2046)\n\tat org.apache.spark.util.EventLoop$$anon$1.run(EventLoop.scala:49)\n\tat org.apache.spark.scheduler.DAGScheduler.runJob(DAGScheduler.scala:737)\n\tat org.apache.spark.SparkContext.runJob(SparkContext.scala:2061)\n\tat org.apache.spark.SparkContext.runJob(SparkContext.scala:2158)\n\tat org.apache.spark.rdd.RDD$$anonfun$reduce$1.apply(RDD.scala:1035)\n\tat org.apache.spark.rdd.RDDOperationScope$.withScope(RDDOperationScope.scala:151)\n\tat org.apache.spark.rdd.RDDOperationScope$.withScope(RDDOperationScope.scala:112)\n\tat org.apache.spark.rdd.RDD.withScope(RDD.scala:363)\n\tat org.apache.spark.rdd.RDD.reduce(RDD.scala:1017)\n\tat org.apache.spark.ml.feature.VectorIndexer.fit(VectorIndexer.scala:154)\n\tat org.apache.spark.ml.feature.VectorIndexer.fit(VectorIndexer.scala:119)\n\tat sun.reflect.NativeMethodAccessorImpl.invoke0(Native Method)\n\tat sun.reflect.NativeMethodAccessorImpl.invoke(NativeMethodAccessorImpl.java:62)\n\tat sun.reflect.DelegatingMethodAccessorImpl.invoke(DelegatingMethodAccessorImpl.java:43)\n\tat java.lang.reflect.Method.invoke(Method.java:498)\n\tat py4j.reflection.MethodInvoker.invoke(MethodInvoker.java:244)\n\tat py4j.reflection.ReflectionEngine.invoke(ReflectionEngine.java:357)\n\tat py4j.Gateway.invoke(Gateway.java:282)\n\tat py4j.commands.AbstractCommand.invokeMethod(AbstractCommand.java:132)\n\tat py4j.commands.CallCommand.execute(CallCommand.java:79)\n\tat py4j.GatewayConnection.run(GatewayConnection.java:238)\n\tat java.lang.Thread.run(Thread.java:748)\n"
     ]
    }
   ],
   "source": [
    "from pyspark.ml import Pipeline\n",
    "from pyspark.ml.classification import GBTClassifier\n",
    "from pyspark.ml.feature import StringIndexer, VectorIndexer\n",
    "from pyspark.ml.evaluation import MulticlassClassificationEvaluator\n",
    "\n",
    "labelIndexer = StringIndexer(inputCol='label', outputCol='indexedLabel').fit(dataset)\n",
    "featureIndexer = VectorIndexer(inputCol='features', outputCol='indexedFeatures', maxCategories=4).fit(dataset)\n",
    "(trainingData, testData) = dataset.randomSplit([0.7, 0.3], seed=42)\n",
    "gbt = GBTClassifier(labelCol='indexedLabel', featuresCol='indexedFeatures', maxIter=10)\n",
    "pipeline = Pipeline(stages=[labelIndexer, featureIndexer, gbt])\n",
    "model = pipeline.fit(trainingData)\n",
    "predictions = model.transform(testData)\n",
    "predictions.select('prediction', 'indexedLabel', 'features').show(5)\n",
    "evaluator = MulticlassClassificationEvaluator(\n",
    "    labelCol='indexedLabel', predictionCol='prediction', metricName='accuracy')\n",
    "accuracy = evaluator.evaluate(predictions)\n",
    "print 'Test Error = %g' % (1.0 - accuracy)\n",
    "gbtModel = model.stages[2]\n",
    "print gbtModel"
   ]
  }
 ],
 "metadata": {
  "kernelspec": {
   "display_name": "Python 2",
   "language": "python",
   "name": "python2"
  },
  "language_info": {
   "codemirror_mode": {
    "name": "ipython",
    "version": 2
   },
   "file_extension": ".py",
   "mimetype": "text/x-python",
   "name": "python",
   "nbconvert_exporter": "python",
   "pygments_lexer": "ipython2",
   "version": "2.7.16"
  }
 },
 "nbformat": 4,
 "nbformat_minor": 2
}

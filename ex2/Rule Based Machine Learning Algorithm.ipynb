{
 "cells": [
  {
   "cell_type": "markdown",
   "metadata": {},
   "source": [
    "# Rule Based Machine Learning Algorithm"
   ]
  },
  {
   "cell_type": "code",
   "execution_count": 1,
   "metadata": {},
   "outputs": [],
   "source": [
    "filename = 'user-ct-test-collection-01.txt'"
   ]
  },
  {
   "cell_type": "code",
   "execution_count": 2,
   "metadata": {},
   "outputs": [],
   "source": [
    "# !rm -rf user-ct-test-collection-01.txt"
   ]
  },
  {
   "cell_type": "markdown",
   "metadata": {},
   "source": [
    "## Get Dataset"
   ]
  },
  {
   "cell_type": "code",
   "execution_count": 3,
   "metadata": {},
   "outputs": [
    {
     "name": "stdout",
     "output_type": "stream",
     "text": [
      "Downloading dataset\n",
      "Download complete, unzipping\n",
      "Unzip complete\n"
     ]
    }
   ],
   "source": [
    "import os\n",
    "import gzip\n",
    "import ssl\n",
    "import shutil\n",
    "import urllib2\n",
    "\n",
    "if os.path.isfile(filename):\n",
    "    print 'Dataset found'\n",
    "else:\n",
    "    print 'Downloading dataset'\n",
    "    f = urllib2.urlopen('https://github.com/dimosr/Big_Data/raw/master/resources/user-ct-test-collection-01.txt.gz', \n",
    "                        context=ssl.SSLContext(ssl.PROTOCOL_TLS))\n",
    "    with open(os.path.basename(filename + '.gz'), 'wb') as local_file:\n",
    "        local_file.write(f.read())\n",
    "    print 'Download complete, unzipping'\n",
    "    with gzip.open(filename + '.gz', 'rb') as f_in:\n",
    "        with open(filename, 'wb') as f_out:\n",
    "            shutil.copyfileobj(f_in, f_out)\n",
    "    os.remove(filename + '.gz')        \n",
    "    print 'Unzip complete'"
   ]
  },
  {
   "cell_type": "markdown",
   "metadata": {},
   "source": [
    "## Preparing the Dataset"
   ]
  },
  {
   "cell_type": "code",
   "execution_count": 8,
   "metadata": {},
   "outputs": [
    {
     "name": "stdout",
     "output_type": "stream",
     "text": [
      "+------+--------------------+-------------------+--------+--------------------+\n",
      "|AnonID|               Query|          QueryTime|ItemRank|            ClickURL|\n",
      "+------+--------------------+-------------------+--------+--------------------+\n",
      "|   142|      rentdirect.com|2006-03-01 07:17:12|        |                    |\n",
      "|   142|www.prescriptionf...|2006-03-12 12:31:06|        |                    |\n",
      "|   142|          staple.com|2006-03-17 21:19:29|        |                    |\n",
      "|   142|          staple.com|2006-03-17 21:19:45|        |                    |\n",
      "|   142|www.newyorklawyer...|2006-03-18 08:02:58|        |                    |\n",
      "|   142|www.newyorklawyer...|2006-03-18 08:03:09|        |                    |\n",
      "|   142|     westchester.gov|2006-03-20 03:55:57|       1|http://www.westch...|\n",
      "|   142|       space.comhttp|2006-03-24 20:51:24|        |                    |\n",
      "|   142|                dfdf|2006-03-24 22:23:07|        |                    |\n",
      "|   142|                dfdf|2006-03-24 22:23:14|        |                    |\n",
      "|   142|         vaniqa.comh|2006-03-25 23:27:12|        |                    |\n",
      "|   142| www.collegeucla.edu|2006-04-03 21:12:14|        |                    |\n",
      "|   142|          www.elaorg|2006-04-03 21:25:20|        |                    |\n",
      "|   142|        207 ad2d 530|2006-04-08 01:31:04|        |                    |\n",
      "|   142|        207 ad2d 530|2006-04-08 01:31:14|       1|http://www.courts...|\n",
      "|   142|   broadway.vera.org|2006-04-08 08:38:23|        |                    |\n",
      "|   142|   broadway.vera.org|2006-04-08 08:38:31|        |                    |\n",
      "|   142|            vera.org|2006-04-08 08:38:42|       1| http://www.vera.org|\n",
      "|   142|   broadway.vera.org|2006-04-08 08:39:30|        |                    |\n",
      "|   142|    frankmellace.com|2006-04-09 02:19:24|        |                    |\n",
      "|   142|         ucs.ljx.com|2006-04-09 02:20:44|        |                    |\n",
      "|   142|   attornyleslie.com|2006-04-13 00:25:27|        |                    |\n",
      "|   142|merit release app...|2006-04-22 23:51:18|        |                    |\n",
      "|   142| www.bonsai.wbff.org|2006-05-06 08:49:34|        |                    |\n",
      "|   142|         loislaw.com|2006-05-12 22:43:36|        |                    |\n",
      "|   142|           rapny.com|2006-05-18 09:21:57|        |                    |\n",
      "|   142|      whitepages.com|2006-05-19 19:36:31|        |                    |\n",
      "|   217|             lottery|2006-03-01 11:58:51|       1|http://www.calott...|\n",
      "|   217|             lottery|2006-03-01 11:58:51|       1|http://www.calott...|\n",
      "|   217|      ameriprise.com|2006-03-01 14:06:23|       1|http://www.amerip...|\n",
      "|   217|             susheme|2006-03-02 12:31:08|        |                    |\n",
      "|   217|          united.com|2006-03-03 14:54:13|        |                    |\n",
      "|   217|          mizuno.com|2006-03-07 22:41:17|       1|http://www.mizuno...|\n",
      "|   217|p; .; p;' p; ' ;'...|2006-03-09 12:09:27|        |                    |\n",
      "|   217|p; .; p;' p; ' ;'...|2006-03-09 12:09:35|        |                    |\n",
      "|   217|asiansexygoddess.com|2006-03-16 14:31:36|       1|http://www.asians...|\n",
      "|   217|            buddylis|2006-03-16 15:23:33|        |                    |\n",
      "|   217|bestasiancompany.com|2006-03-20 15:15:43|       1|http://www.bestas...|\n",
      "|   217|             lottery|2006-03-27 14:10:38|       1|http://www.calott...|\n",
      "|   217|             lottery|2006-03-27 16:34:59|       1|http://www.calott...|\n",
      "|   217|             ask.com|2006-03-31 14:31:10|       1|  http://www.ask.com|\n",
      "|   217|         weather.com|2006-03-31 18:00:56|        |                    |\n",
      "|   217|      wellsfargo.com|2006-04-03 16:57:54|        |                    |\n",
      "|   217|www.tabiecummings...|2006-05-04 17:45:57|        |                    |\n",
      "|   217|     wanttickets.com|2006-05-16 15:44:38|        |                    |\n",
      "|   217|           yahoo.com|2006-05-16 16:35:31|        |                    |\n",
      "|   217|                   -|2006-05-18 18:20:10|       1|http://www.theone...|\n",
      "|   217|    www.ngo-quen.org|2006-05-22 15:49:47|        |                    |\n",
      "|   217|                   -|2006-05-22 16:48:42|        |                    |\n",
      "|   217|             vietnam|2006-05-22 17:43:42|        |                    |\n",
      "|   217|             vietnam|2006-05-22 17:43:42|        |                    |\n",
      "|   217|             vietnam|2006-05-22 17:43:44|        |                    |\n",
      "|   217|             vietnam|2006-05-22 18:03:24|        |                    |\n",
      "|   217|             vietnam|2006-05-22 18:03:24|        |                    |\n",
      "|   217|             vietnam|2006-05-22 18:03:27|        |                    |\n",
      "|   217|                   -|2006-05-23 15:41:48|        |                    |\n",
      "|   993|          myspace.co|2006-03-01 12:13:36|        |                    |\n",
      "|   993|         myspace.com|2006-03-01 12:13:41|        |                    |\n",
      "|   993|               googl|2006-03-01 15:03:25|        |                    |\n",
      "|   993|    chasebadkids.net|2006-03-03 16:55:48|       1|http://www.chaseb...|\n",
      "|  1268|ozark horse blankets|2006-03-01 17:39:28|       8|http://www.blanke...|\n",
      "|  1268|www.ghostrockranc...|2006-03-04 13:58:23|        |                    |\n",
      "|  1268|openrangeht.zachs...|2006-03-09 22:38:45|        |                    |\n",
      "|  1268|          sstack.com|2006-03-11 00:17:09|        |                    |\n",
      "|  1268|       www.mecab.org|2006-03-12 18:59:26|        |                    |\n",
      "|  1268|www.raindanceexpr...|2006-03-18 20:13:01|        |                    |\n",
      "|  1268|www.victoriacostu...|2006-03-19 00:26:51|        |                    |\n",
      "|  1268|osteen-schaztberg...|2006-03-21 17:55:25|        |                    |\n",
      "|  1268|osteen-schatzberg...|2006-03-21 17:55:42|       1|http://www.osteen...|\n",
      "|  1268|osteen-schatzberg...|2006-03-21 17:55:42|       2|http://www.osteen...|\n",
      "|  1268|www.buckmountiane...|2006-03-24 18:53:10|        |                    |\n",
      "|  1268|   idx.techsolsc.com|2006-05-07 00:58:21|        |                    |\n",
      "|  1268|www.bridleandbit.com|2006-05-09 21:34:23|        |                    |\n",
      "|  1268|         gall stones|2006-05-11 02:12:51|        |                    |\n",
      "|  1268|          gallstones|2006-05-11 02:13:02|       1|http://www.niddk....|\n",
      "|  1268|http www.flickr.c...|2006-05-12 00:09:54|        |                    |\n",
      "|  1268|http www.flickr.c...|2006-05-12 00:10:26|        |                    |\n",
      "|  1268|href a href alt a...|2006-05-12 01:28:30|        |                    |\n",
      "|  1268|http www.flickr.c...|2006-05-12 10:41:27|        |                    |\n",
      "|  1268|www.acevedoarabia...|2006-05-21 21:28:21|        |                    |\n",
      "|  1268|  adbuyer3.lycos.com|2006-05-31 14:10:52|        |                    |\n",
      "|  1268|www.pinerplantati...|2006-05-31 21:24:08|        |                    |\n",
      "|  1268|www.pinerplantati...|2006-05-31 21:24:30|        |                    |\n",
      "|  1268|www.pinerplantati...|2006-05-31 21:24:56|        |                    |\n",
      "|  1326|               files|2006-03-01 17:36:08|        |                    |\n",
      "|  1326|    www.kmcwheel.com|2006-03-06 17:31:55|        |                    |\n",
      "|  1326|       dellcomputers|2006-03-06 20:09:58|        |                    |\n",
      "|  1326|www.ameicaneaglew...|2006-03-09 19:09:52|        |                    |\n",
      "|  1326|cascadefamilymedical|2006-03-14 11:36:57|        |                    |\n",
      "|  1326|cascadefamilymedi...|2006-03-14 11:39:49|        |                    |\n",
      "|  1326|     milaniwheel.com|2006-03-14 12:37:30|        |                    |\n",
      "|  1326|www.ameicaneaglew...|2006-03-14 18:53:20|        |                    |\n",
      "|  1326|www.ameicaneaglew...|2006-03-15 12:27:48|        |                    |\n",
      "|  1326|         pop up adds|2006-03-15 20:07:38|        |                    |\n",
      "|  1326|         pop up adds|2006-03-15 20:08:29|        |                    |\n",
      "|  1326|the childs wonder...|2006-03-21 11:50:10|        |                    |\n",
      "|  1326|the child's wonde...|2006-03-21 11:59:03|       6|http://www.wonder...|\n",
      "|  1326|the child's wonde...|2006-03-21 12:00:55|        |                    |\n",
      "|  1326|the child's wonde...|2006-03-21 12:01:24|        |                    |\n",
      "|  1326|the child's wonde...|2006-03-21 12:01:59|        |                    |\n",
      "+------+--------------------+-------------------+--------+--------------------+\n",
      "only showing top 100 rows\n",
      "\n"
     ]
    }
   ],
   "source": [
    "from pyspark.sql.functions import col\n",
    "\n",
    "rdd = sc.textFile(filename).map(lambda x: x.split('\\t'))\n",
    "header = rdd.first()\n",
    "rdd = rdd.filter(lambda line: line != header)\n",
    "df = rdd.toDF(header)\n",
    "df.show(100)"
   ]
  },
  {
   "cell_type": "markdown",
   "metadata": {},
   "source": [
    "## Preprocessing"
   ]
  },
  {
   "cell_type": "code",
   "execution_count": 45,
   "metadata": {},
   "outputs": [
    {
     "ename": "KeyboardInterrupt",
     "evalue": "",
     "output_type": "error",
     "traceback": [
      "\u001b[0;31m---------------------------------------------------------------------------\u001b[0m",
      "\u001b[0;31mKeyboardInterrupt\u001b[0m                         Traceback (most recent call last)",
      "\u001b[0;32m<ipython-input-45-03155500129d>\u001b[0m in \u001b[0;36m<module>\u001b[0;34m()\u001b[0m\n\u001b[1;32m      7\u001b[0m \u001b[0;31m# df = df.filter(size(df.Query) > 1)\u001b[0m\u001b[0;34m\u001b[0m\u001b[0;34m\u001b[0m\u001b[0m\n\u001b[1;32m      8\u001b[0m \u001b[0;34m\u001b[0m\u001b[0m\n\u001b[0;32m----> 9\u001b[0;31m \u001b[0mdf\u001b[0m\u001b[0;34m.\u001b[0m\u001b[0mshow\u001b[0m\u001b[0;34m(\u001b[0m\u001b[0;36m500\u001b[0m\u001b[0;34m)\u001b[0m\u001b[0;34m\u001b[0m\u001b[0m\n\u001b[0m",
      "\u001b[0;32m/opt/spark/python/pyspark/sql/dataframe.pyc\u001b[0m in \u001b[0;36mshow\u001b[0;34m(self, n, truncate, vertical)\u001b[0m\n\u001b[1;32m    376\u001b[0m         \"\"\"\n\u001b[1;32m    377\u001b[0m         \u001b[0;32mif\u001b[0m \u001b[0misinstance\u001b[0m\u001b[0;34m(\u001b[0m\u001b[0mtruncate\u001b[0m\u001b[0;34m,\u001b[0m \u001b[0mbool\u001b[0m\u001b[0;34m)\u001b[0m \u001b[0;32mand\u001b[0m \u001b[0mtruncate\u001b[0m\u001b[0;34m:\u001b[0m\u001b[0;34m\u001b[0m\u001b[0m\n\u001b[0;32m--> 378\u001b[0;31m             \u001b[0;32mprint\u001b[0m\u001b[0;34m(\u001b[0m\u001b[0mself\u001b[0m\u001b[0;34m.\u001b[0m\u001b[0m_jdf\u001b[0m\u001b[0;34m.\u001b[0m\u001b[0mshowString\u001b[0m\u001b[0;34m(\u001b[0m\u001b[0mn\u001b[0m\u001b[0;34m,\u001b[0m \u001b[0;36m20\u001b[0m\u001b[0;34m,\u001b[0m \u001b[0mvertical\u001b[0m\u001b[0;34m)\u001b[0m\u001b[0;34m)\u001b[0m\u001b[0;34m\u001b[0m\u001b[0m\n\u001b[0m\u001b[1;32m    379\u001b[0m         \u001b[0;32melse\u001b[0m\u001b[0;34m:\u001b[0m\u001b[0;34m\u001b[0m\u001b[0m\n\u001b[1;32m    380\u001b[0m             \u001b[0;32mprint\u001b[0m\u001b[0;34m(\u001b[0m\u001b[0mself\u001b[0m\u001b[0;34m.\u001b[0m\u001b[0m_jdf\u001b[0m\u001b[0;34m.\u001b[0m\u001b[0mshowString\u001b[0m\u001b[0;34m(\u001b[0m\u001b[0mn\u001b[0m\u001b[0;34m,\u001b[0m \u001b[0mint\u001b[0m\u001b[0;34m(\u001b[0m\u001b[0mtruncate\u001b[0m\u001b[0;34m)\u001b[0m\u001b[0;34m,\u001b[0m \u001b[0mvertical\u001b[0m\u001b[0;34m)\u001b[0m\u001b[0;34m)\u001b[0m\u001b[0;34m\u001b[0m\u001b[0m\n",
      "\u001b[0;32m/opt/spark/python/lib/py4j-0.10.7-src.zip/py4j/java_gateway.py\u001b[0m in \u001b[0;36m__call__\u001b[0;34m(self, *args)\u001b[0m\n\u001b[1;32m   1253\u001b[0m             \u001b[0mproto\u001b[0m\u001b[0;34m.\u001b[0m\u001b[0mEND_COMMAND_PART\u001b[0m\u001b[0;34m\u001b[0m\u001b[0m\n\u001b[1;32m   1254\u001b[0m \u001b[0;34m\u001b[0m\u001b[0m\n\u001b[0;32m-> 1255\u001b[0;31m         \u001b[0manswer\u001b[0m \u001b[0;34m=\u001b[0m \u001b[0mself\u001b[0m\u001b[0;34m.\u001b[0m\u001b[0mgateway_client\u001b[0m\u001b[0;34m.\u001b[0m\u001b[0msend_command\u001b[0m\u001b[0;34m(\u001b[0m\u001b[0mcommand\u001b[0m\u001b[0;34m)\u001b[0m\u001b[0;34m\u001b[0m\u001b[0m\n\u001b[0m\u001b[1;32m   1256\u001b[0m         return_value = get_return_value(\n\u001b[1;32m   1257\u001b[0m             answer, self.gateway_client, self.target_id, self.name)\n",
      "\u001b[0;32m/opt/spark/python/lib/py4j-0.10.7-src.zip/py4j/java_gateway.py\u001b[0m in \u001b[0;36msend_command\u001b[0;34m(self, command, retry, binary)\u001b[0m\n\u001b[1;32m    983\u001b[0m         \u001b[0mconnection\u001b[0m \u001b[0;34m=\u001b[0m \u001b[0mself\u001b[0m\u001b[0;34m.\u001b[0m\u001b[0m_get_connection\u001b[0m\u001b[0;34m(\u001b[0m\u001b[0;34m)\u001b[0m\u001b[0;34m\u001b[0m\u001b[0m\n\u001b[1;32m    984\u001b[0m         \u001b[0;32mtry\u001b[0m\u001b[0;34m:\u001b[0m\u001b[0;34m\u001b[0m\u001b[0m\n\u001b[0;32m--> 985\u001b[0;31m             \u001b[0mresponse\u001b[0m \u001b[0;34m=\u001b[0m \u001b[0mconnection\u001b[0m\u001b[0;34m.\u001b[0m\u001b[0msend_command\u001b[0m\u001b[0;34m(\u001b[0m\u001b[0mcommand\u001b[0m\u001b[0;34m)\u001b[0m\u001b[0;34m\u001b[0m\u001b[0m\n\u001b[0m\u001b[1;32m    986\u001b[0m             \u001b[0;32mif\u001b[0m \u001b[0mbinary\u001b[0m\u001b[0;34m:\u001b[0m\u001b[0;34m\u001b[0m\u001b[0m\n\u001b[1;32m    987\u001b[0m                 \u001b[0;32mreturn\u001b[0m \u001b[0mresponse\u001b[0m\u001b[0;34m,\u001b[0m \u001b[0mself\u001b[0m\u001b[0;34m.\u001b[0m\u001b[0m_create_connection_guard\u001b[0m\u001b[0;34m(\u001b[0m\u001b[0mconnection\u001b[0m\u001b[0;34m)\u001b[0m\u001b[0;34m\u001b[0m\u001b[0m\n",
      "\u001b[0;32m/opt/spark/python/lib/py4j-0.10.7-src.zip/py4j/java_gateway.py\u001b[0m in \u001b[0;36msend_command\u001b[0;34m(self, command)\u001b[0m\n\u001b[1;32m   1150\u001b[0m \u001b[0;34m\u001b[0m\u001b[0m\n\u001b[1;32m   1151\u001b[0m         \u001b[0;32mtry\u001b[0m\u001b[0;34m:\u001b[0m\u001b[0;34m\u001b[0m\u001b[0m\n\u001b[0;32m-> 1152\u001b[0;31m             \u001b[0manswer\u001b[0m \u001b[0;34m=\u001b[0m \u001b[0msmart_decode\u001b[0m\u001b[0;34m(\u001b[0m\u001b[0mself\u001b[0m\u001b[0;34m.\u001b[0m\u001b[0mstream\u001b[0m\u001b[0;34m.\u001b[0m\u001b[0mreadline\u001b[0m\u001b[0;34m(\u001b[0m\u001b[0;34m)\u001b[0m\u001b[0;34m[\u001b[0m\u001b[0;34m:\u001b[0m\u001b[0;34m-\u001b[0m\u001b[0;36m1\u001b[0m\u001b[0;34m]\u001b[0m\u001b[0;34m)\u001b[0m\u001b[0;34m\u001b[0m\u001b[0m\n\u001b[0m\u001b[1;32m   1153\u001b[0m             \u001b[0mlogger\u001b[0m\u001b[0;34m.\u001b[0m\u001b[0mdebug\u001b[0m\u001b[0;34m(\u001b[0m\u001b[0;34m\"Answer received: {0}\"\u001b[0m\u001b[0;34m.\u001b[0m\u001b[0mformat\u001b[0m\u001b[0;34m(\u001b[0m\u001b[0manswer\u001b[0m\u001b[0;34m)\u001b[0m\u001b[0;34m)\u001b[0m\u001b[0;34m\u001b[0m\u001b[0m\n\u001b[1;32m   1154\u001b[0m             \u001b[0;32mif\u001b[0m \u001b[0manswer\u001b[0m\u001b[0;34m.\u001b[0m\u001b[0mstartswith\u001b[0m\u001b[0;34m(\u001b[0m\u001b[0mproto\u001b[0m\u001b[0;34m.\u001b[0m\u001b[0mRETURN_MESSAGE\u001b[0m\u001b[0;34m)\u001b[0m\u001b[0;34m:\u001b[0m\u001b[0;34m\u001b[0m\u001b[0m\n",
      "\u001b[0;32m/Library/Frameworks/Python.framework/Versions/2.7/lib/python2.7/socket.pyc\u001b[0m in \u001b[0;36mreadline\u001b[0;34m(self, size)\u001b[0m\n\u001b[1;32m    449\u001b[0m             \u001b[0;32mwhile\u001b[0m \u001b[0mTrue\u001b[0m\u001b[0;34m:\u001b[0m\u001b[0;34m\u001b[0m\u001b[0m\n\u001b[1;32m    450\u001b[0m                 \u001b[0;32mtry\u001b[0m\u001b[0;34m:\u001b[0m\u001b[0;34m\u001b[0m\u001b[0m\n\u001b[0;32m--> 451\u001b[0;31m                     \u001b[0mdata\u001b[0m \u001b[0;34m=\u001b[0m \u001b[0mself\u001b[0m\u001b[0;34m.\u001b[0m\u001b[0m_sock\u001b[0m\u001b[0;34m.\u001b[0m\u001b[0mrecv\u001b[0m\u001b[0;34m(\u001b[0m\u001b[0mself\u001b[0m\u001b[0;34m.\u001b[0m\u001b[0m_rbufsize\u001b[0m\u001b[0;34m)\u001b[0m\u001b[0;34m\u001b[0m\u001b[0m\n\u001b[0m\u001b[1;32m    452\u001b[0m                 \u001b[0;32mexcept\u001b[0m \u001b[0merror\u001b[0m\u001b[0;34m,\u001b[0m \u001b[0me\u001b[0m\u001b[0;34m:\u001b[0m\u001b[0;34m\u001b[0m\u001b[0m\n\u001b[1;32m    453\u001b[0m                     \u001b[0;32mif\u001b[0m \u001b[0me\u001b[0m\u001b[0;34m.\u001b[0m\u001b[0margs\u001b[0m\u001b[0;34m[\u001b[0m\u001b[0;36m0\u001b[0m\u001b[0;34m]\u001b[0m \u001b[0;34m==\u001b[0m \u001b[0mEINTR\u001b[0m\u001b[0;34m:\u001b[0m\u001b[0;34m\u001b[0m\u001b[0m\n",
      "\u001b[0;31mKeyboardInterrupt\u001b[0m: "
     ]
    }
   ],
   "source": [
    "from pyspark.sql.functions import *\n",
    "\n",
    "df.createOrReplaceTempView('df')\n",
    "df = spark.sql(\"SELECT AnonID, Query, QueryTime FROM df\")\n",
    "\n",
    "df = df.withColumn('Query', regexp_replace('Query', 'www.|.html|.com|.gov|.org|.co|.net|.edu|.mil', ''))\n",
    "# df = df.filter(size(df.Query) > 1)\n",
    "\n",
    "df.show(500)"
   ]
  },
  {
   "cell_type": "code",
   "execution_count": 6,
   "metadata": {},
   "outputs": [
    {
     "name": "stdout",
     "output_type": "stream",
     "text": [
      "+--------+--------------------+-------------------+----+\n",
      "|  AnonID|               Query|          QueryTime|mean|\n",
      "+--------+--------------------+-------------------+----+\n",
      "|10086493|       tiffany's.com|2006-03-06 16:11:06|   1|\n",
      "|10086493|n4514524-452881-4...|2006-03-08 01:06:16|   1|\n",
      "|10086493|          sprint pcs|2006-03-20 01:05:26|   1|\n",
      "|10086493|             atacand|2006-03-20 01:35:36|   1|\n",
      "|10086493|    jennifer nettles|2006-03-20 01:48:56|   1|\n",
      "|10086493|    jennifer nettles|2006-03-20 01:49:03|   3|\n",
      "|10086493|    jennifer nettles|2006-03-20 01:49:03|   3|\n",
      "|10086493|    jennifer nettles|2006-03-20 01:49:19|   4|\n",
      "|10086493|    jennifer nettles|2006-03-20 01:49:34|   5|\n",
      "|10086493|    jennifer nettles|2006-03-20 01:51:25|   7|\n",
      "|10086493|    jennifer nettles|2006-03-20 01:51:25|   7|\n",
      "|10086493|olivegarden las v...|2006-03-21 22:50:38|   2|\n",
      "|10086493|olivegarden las v...|2006-03-21 22:50:38|   2|\n",
      "|10086493|olivegarden las v...|2006-03-21 22:52:34|   3|\n",
      "|10086493|olive garden las ...|2006-03-21 22:53:12|   4|\n",
      "|10086493| olivegarden lnevada|2006-03-21 22:55:10|   5|\n",
      "|10086493|  olivegarden nevada|2006-03-21 22:55:17|   6|\n",
      "|10086493|             lipitor|2006-03-25 12:47:15|   1|\n",
      "|10086493|         tea-centric|2006-04-01 00:03:13|   1|\n",
      "|10086493|tea-centric las v...|2006-04-01 00:03:51|   4|\n",
      "+--------+--------------------+-------------------+----+\n",
      "only showing top 20 rows\n",
      "\n"
     ]
    }
   ],
   "source": [
    "# from pyspark.sql.window import Window\n",
    "# from pyspark.sql.functions import count, col\n",
    "\n",
    "# minutes = lambda i: i * 60 \n",
    "\n",
    "# w = (Window()\n",
    "#    .partitionBy(col('AnonID'))\n",
    "#    .orderBy(col('QueryTime').cast('timestamp').cast('long'))\n",
    "#    .rangeBetween(-minutes(10), 0))\n",
    "\n",
    "# df.select(col('*'), count('Query').over(w).alias('mean')).show()"
   ]
  }
 ],
 "metadata": {
  "kernelspec": {
   "display_name": "Python 2",
   "language": "python",
   "name": "python2"
  },
  "language_info": {
   "codemirror_mode": {
    "name": "ipython",
    "version": 2
   },
   "file_extension": ".py",
   "mimetype": "text/x-python",
   "name": "python",
   "nbconvert_exporter": "python",
   "pygments_lexer": "ipython2",
   "version": "2.7.16"
  }
 },
 "nbformat": 4,
 "nbformat_minor": 2
}
